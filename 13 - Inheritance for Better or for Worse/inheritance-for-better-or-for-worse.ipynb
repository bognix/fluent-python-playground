{
 "cells": [
  {
   "cell_type": "markdown",
   "id": "fb6a9b48-65d2-4a7d-9186-d5223f2c3f1e",
   "metadata": {},
   "source": [
    "## MRO"
   ]
  },
  {
   "cell_type": "code",
   "execution_count": 5,
   "id": "495dea43-208a-4143-8d16-0f6512247ff5",
   "metadata": {},
   "outputs": [
    {
     "name": "stdout",
     "output_type": "stream",
     "text": [
      "(<class '__main__.C'>, <class '__main__.A'>, <class '__main__.B'>, <class 'object'>)\n",
      "class C\n",
      "class A\n",
      "class B\n",
      "(<class '__main__.A'>, <class 'object'>)\n",
      "class A\n"
     ]
    },
    {
     "ename": "AttributeError",
     "evalue": "'super' object has no attribute 'ping'",
     "output_type": "error",
     "traceback": [
      "\u001b[0;31m---------------------------------------------------------------------------\u001b[0m",
      "\u001b[0;31mAttributeError\u001b[0m                            Traceback (most recent call last)",
      "Input \u001b[0;32mIn [5]\u001b[0m, in \u001b[0;36m<cell line: 22>\u001b[0;34m()\u001b[0m\n\u001b[1;32m     20\u001b[0m a \u001b[38;5;241m=\u001b[39m A()\n\u001b[1;32m     21\u001b[0m \u001b[38;5;28mprint\u001b[39m(A\u001b[38;5;241m.\u001b[39m\u001b[38;5;18m__mro__\u001b[39m)\n\u001b[0;32m---> 22\u001b[0m \u001b[43ma\u001b[49m\u001b[38;5;241;43m.\u001b[39;49m\u001b[43mping\u001b[49m\u001b[43m(\u001b[49m\u001b[43m)\u001b[49m\n",
      "Input \u001b[0;32mIn [5]\u001b[0m, in \u001b[0;36mA.ping\u001b[0;34m(self)\u001b[0m\n\u001b[1;32m      2\u001b[0m \u001b[38;5;28;01mdef\u001b[39;00m \u001b[38;5;21mping\u001b[39m(\u001b[38;5;28mself\u001b[39m):\n\u001b[1;32m      3\u001b[0m     \u001b[38;5;28mprint\u001b[39m(\u001b[38;5;124m'\u001b[39m\u001b[38;5;124mclass A\u001b[39m\u001b[38;5;124m'\u001b[39m)\n\u001b[0;32m----> 4\u001b[0m     \u001b[38;5;28;43msuper\u001b[39;49m\u001b[43m(\u001b[49m\u001b[43m)\u001b[49m\u001b[38;5;241;43m.\u001b[39;49m\u001b[43mping\u001b[49m()\n",
      "\u001b[0;31mAttributeError\u001b[0m: 'super' object has no attribute 'ping'"
     ]
    }
   ],
   "source": [
    "class A:\n",
    "    def ping(self):\n",
    "        print('class A')\n",
    "        super().ping()\n",
    "    \n",
    "class B:\n",
    "    def ping(self):\n",
    "        print('class B')\n",
    "\n",
    "class C(A,B):\n",
    "    def ping(self):\n",
    "        print('class C')\n",
    "        super().ping()\n",
    "\n",
    "c = C()\n",
    "\n",
    "print(C.__mro__)\n",
    "c.ping()\n",
    "\n",
    "a = A()\n",
    "print(A.__mro__)\n",
    "a.ping()"
   ]
  },
  {
   "cell_type": "code",
   "execution_count": 7,
   "id": "fea8d1cb-c02a-4d35-9eec-678ba7730a8a",
   "metadata": {},
   "outputs": [
    {
     "name": "stdout",
     "output_type": "stream",
     "text": [
      "(<class '__main__.C'>, <class '__main__.A'>, <class '__main__.Root'>, <class '__main__.B'>, <class 'object'>)\n",
      "class C\n",
      "class A\n",
      "class Root\n"
     ]
    }
   ],
   "source": [
    "class Root:\n",
    "    def ping(self):\n",
    "        print('class Root')\n",
    "    \n",
    "class A(Root):\n",
    "    def ping(self):\n",
    "        print('class A')\n",
    "        super().ping()\n",
    "\n",
    "class B:\n",
    "    def ping(self):\n",
    "        print('class B')\n",
    "        super().ping()\n",
    "\n",
    "\n",
    "class C(A, B):\n",
    "    def ping(self):\n",
    "        print('class C')\n",
    "        super().ping()\n",
    "\n",
    "c = C()\n",
    "\n",
    "print(C.__mro__)\n",
    "c.ping()\n"
   ]
  }
 ],
 "metadata": {
  "kernelspec": {
   "display_name": "Python 3 (ipykernel)",
   "language": "python",
   "name": "python3"
  },
  "language_info": {
   "codemirror_mode": {
    "name": "ipython",
    "version": 3
   },
   "file_extension": ".py",
   "mimetype": "text/x-python",
   "name": "python",
   "nbconvert_exporter": "python",
   "pygments_lexer": "ipython3",
   "version": "3.10.5"
  }
 },
 "nbformat": 4,
 "nbformat_minor": 5
}
