{
 "cells": [
  {
   "cell_type": "markdown",
   "metadata": {},
   "source": [
    "## Pattern matching with mappings"
   ]
  },
  {
   "cell_type": "code",
   "execution_count": 1,
   "metadata": {},
   "outputs": [
    {
     "name": "stdout",
     "output_type": "stream",
     "text": [
      "aaa\n",
      "{'foo': 'bar', 'fizz': 'buzz'}\n",
      "in default\n"
     ]
    }
   ],
   "source": [
    "def get_creators(record):\n",
    "    print('aaa')\n",
    "    match record:\n",
    "        case {'foo': int()}:\n",
    "            print('match!')\n",
    "            print(int)\n",
    "# case below will throw an error because in makes remaining patterns unreachable\n",
    "#        case catch_all:\n",
    "#            print('aaa')\n",
    "        case {**catch_all}:\n",
    "            print(catch_all)\n",
    "            print('in default')\n",
    "            \n",
    "get_creators({'foo': 'bar', 'fizz': 'buzz'})"
   ]
  },
  {
   "cell_type": "markdown",
   "metadata": {},
   "source": [
    "## Standard API for Mutable"
   ]
  },
  {
   "cell_type": "code",
   "execution_count": 6,
   "metadata": {},
   "outputs": [
    {
     "name": "stdout",
     "output_type": "stream",
     "text": [
      "{'foo': ['bar'], 'fizz': ['buzz']}\n"
     ]
    }
   ],
   "source": [
    "my_dict = {}\n",
    "\n",
    "def ugly_set(key, val):\n",
    "    val_in_dict = my_dict.get(key, [])\n",
    "    val_in_dict.append(val)\n",
    "    my_dict[key] = val_in_dict\n",
    "    \n",
    "def nice_set(key, val):\n",
    "    my_dict.setdefault(key, []).append(val)\n",
    "    \n",
    "ugly_set('foo', 'bar')\n",
    "nice_set('fizz', 'buzz')\n",
    "\n",
    "print(my_dict)"
   ]
  },
  {
   "cell_type": "markdown",
   "metadata": {},
   "source": [
    "## Variations of dicts"
   ]
  },
  {
   "cell_type": "markdown",
   "metadata": {},
   "source": [
    "### ChainMap"
   ]
  },
  {
   "cell_type": "code",
   "execution_count": 6,
   "metadata": {},
   "outputs": [
    {
     "name": "stdout",
     "output_type": "stream",
     "text": [
      "{'a': 4, 'b': 2, 'c': 3}\n",
      "{'a': 4, 'b': 2, 'c': 3}\n",
      "{'c': 3, 'a': 1, 'b': 2}\n",
      "ChainMap({'a': 1, 'b': 2}, {'c': 3, 'a': 4})\n",
      "1\n"
     ]
    }
   ],
   "source": [
    "from collections import ChainMap\n",
    "\n",
    "dict_a = {'a': 1, 'b': 2}\n",
    "dict_b = {'c': 3, 'a': 4}\n",
    "\n",
    "union_dict = dict_a | dict_b\n",
    "print(union_dict)\n",
    "\n",
    "combined_dict = {**dict_a, **dict_b}\n",
    "combined_dict_reversed = {**dict_b, **dict_a}\n",
    "print(combined_dict)\n",
    "print(combined_dict_reversed)\n",
    "\n",
    "chained_map = ChainMap(dict_a, dict_b)\n",
    "print(chained_map)\n",
    "print(chained_map['a'])"
   ]
  },
  {
   "cell_type": "markdown",
   "metadata": {},
   "source": [
    "### Practical consequeces of how dict works"
   ]
  },
  {
   "cell_type": "code",
   "execution_count": 16,
   "metadata": {},
   "outputs": [
    {
     "name": "stdout",
     "output_type": "stream",
     "text": [
      "{'my_custom_var': 'Hejo', 'another': 'papa'}\n",
      "{'my_custom_var': 'Hejo'}\n"
     ]
    }
   ],
   "source": [
    "from collections import UserDict\n",
    "\n",
    "class BognaDict(UserDict):\n",
    "    def __init__(self):\n",
    "        self.my_custom_var = 'Hejo'\n",
    "    \n",
    "    def define_another(self):\n",
    "        self.another = 'papa'\n",
    "\n",
    "bd = BognaDict()\n",
    "bd.define_another()\n",
    "\n",
    "\n",
    "bd_2 = BognaDict()\n",
    "print(bd.__dict__)\n",
    "print(bd_2.__dict__)"
   ]
  },
  {
   "cell_type": "markdown",
   "metadata": {},
   "source": [
    "Because `another` property was created outside of `__init__` `bd` and `bd_2` instances don't share the same properties hash table, it's a memory waste. Py"
   ]
  },
  {
   "cell_type": "code",
   "execution_count": null,
   "metadata": {},
   "outputs": [],
   "source": []
  },
  {
   "cell_type": "code",
   "execution_count": null,
   "metadata": {},
   "outputs": [],
   "source": []
  },
  {
   "cell_type": "code",
   "execution_count": null,
   "metadata": {},
   "outputs": [],
   "source": []
  },
  {
   "cell_type": "code",
   "execution_count": null,
   "metadata": {},
   "outputs": [],
   "source": []
  },
  {
   "cell_type": "code",
   "execution_count": null,
   "metadata": {},
   "outputs": [],
   "source": []
  },
  {
   "cell_type": "code",
   "execution_count": null,
   "metadata": {},
   "outputs": [],
   "source": []
  },
  {
   "cell_type": "code",
   "execution_count": null,
   "metadata": {},
   "outputs": [],
   "source": []
  },
  {
   "cell_type": "code",
   "execution_count": null,
   "metadata": {},
   "outputs": [],
   "source": []
  },
  {
   "cell_type": "code",
   "execution_count": null,
   "metadata": {},
   "outputs": [],
   "source": []
  },
  {
   "cell_type": "code",
   "execution_count": null,
   "metadata": {},
   "outputs": [],
   "source": []
  },
  {
   "cell_type": "code",
   "execution_count": null,
   "metadata": {},
   "outputs": [],
   "source": []
  },
  {
   "cell_type": "code",
   "execution_count": null,
   "metadata": {},
   "outputs": [],
   "source": []
  },
  {
   "cell_type": "code",
   "execution_count": null,
   "metadata": {},
   "outputs": [],
   "source": []
  },
  {
   "cell_type": "code",
   "execution_count": null,
   "metadata": {},
   "outputs": [],
   "source": []
  },
  {
   "cell_type": "code",
   "execution_count": null,
   "metadata": {},
   "outputs": [],
   "source": []
  },
  {
   "cell_type": "code",
   "execution_count": null,
   "metadata": {},
   "outputs": [],
   "source": []
  },
  {
   "cell_type": "code",
   "execution_count": null,
   "metadata": {},
   "outputs": [],
   "source": []
  },
  {
   "cell_type": "code",
   "execution_count": null,
   "metadata": {},
   "outputs": [],
   "source": []
  },
  {
   "cell_type": "code",
   "execution_count": null,
   "metadata": {},
   "outputs": [],
   "source": []
  },
  {
   "cell_type": "code",
   "execution_count": null,
   "metadata": {},
   "outputs": [],
   "source": []
  },
  {
   "cell_type": "code",
   "execution_count": null,
   "metadata": {},
   "outputs": [],
   "source": []
  },
  {
   "cell_type": "code",
   "execution_count": null,
   "metadata": {},
   "outputs": [],
   "source": []
  }
 ],
 "metadata": {
  "kernelspec": {
   "display_name": "Python 3 (ipykernel)",
   "language": "python",
   "name": "python3"
  },
  "language_info": {
   "codemirror_mode": {
    "name": "ipython",
    "version": 3
   },
   "file_extension": ".py",
   "mimetype": "text/x-python",
   "name": "python",
   "nbconvert_exporter": "python",
   "pygments_lexer": "ipython3",
   "version": "3.11.0"
  }
 },
 "nbformat": 4,
 "nbformat_minor": 2
}
