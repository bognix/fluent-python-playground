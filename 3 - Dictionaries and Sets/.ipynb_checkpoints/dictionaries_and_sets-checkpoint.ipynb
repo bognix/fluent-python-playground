{
 "cells": [
  {
   "cell_type": "markdown",
   "metadata": {},
   "source": [
    "## Pattern matching with mappings"
   ]
  },
  {
   "cell_type": "code",
   "execution_count": null,
   "metadata": {},
   "outputs": [],
   "source": [
    "def get_creators(record):\n",
    "    print('aaa')\n",
    "    match record:\n",
    "        case {'foo': int()}:\n",
    "            print('match!')\n",
    "            print(int)\n",
    "# case below will throw an error because in makes remaining patterns unreachable\n",
    "#        case catch_all:\n",
    "#            print('aaa')\n",
    "        case {**catch_all}:\n",
    "            print(catch_all)\n",
    "            print('in default')\n",
    "            \n",
    "get_creators({'foo': 'bar', 'fizz': 'buzz'})"
   ]
  },
  {
   "cell_type": "code",
   "execution_count": null,
   "metadata": {},
   "outputs": [],
   "source": []
  },
  {
   "cell_type": "code",
   "execution_count": null,
   "metadata": {},
   "outputs": [],
   "source": []
  },
  {
   "cell_type": "markdown",
   "metadata": {},
   "source": [
    "## Standard API for Mutable"
   ]
  },
  {
   "cell_type": "code",
   "execution_count": null,
   "metadata": {},
   "outputs": [],
   "source": [
    "my_dict = {}\n",
    "\n",
    "def ugly_set(key, val):\n",
    "    val_in_dict = my_dict.get(key, [])\n",
    "    val_in_dict.append(val)\n",
    "    my_dict[key] = val\n",
    "    \n",
    "def nice_set(key, val):\n",
    "    my_dict.setdefault(key, []).append(val)\n",
    "    \n",
    "ugly_set('foo', 'bar')\n",
    "nice_set('fizz', 'buzz')"
   ]
  },
  {
   "cell_type": "code",
   "execution_count": null,
   "metadata": {},
   "outputs": [],
   "source": [
    "print(my_dict)"
   ]
  }
 ],
 "metadata": {
  "celltoolbar": "Edit Metadata",
  "kernelspec": {
   "display_name": "Python 3 (ipykernel)",
   "language": "python",
   "name": "python3"
  },
  "language_info": {
   "codemirror_mode": {
    "name": "ipython",
    "version": 3
   },
   "file_extension": ".py",
   "mimetype": "text/x-python",
   "name": "python",
   "nbconvert_exporter": "python",
   "pygments_lexer": "ipython3",
   "version": "3.11.0"
  }
 },
 "nbformat": 4,
 "nbformat_minor": 2
}
