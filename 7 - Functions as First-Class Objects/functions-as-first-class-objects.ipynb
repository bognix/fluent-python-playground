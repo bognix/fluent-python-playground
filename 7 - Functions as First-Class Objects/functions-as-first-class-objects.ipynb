{
 "cells": [
  {
   "cell_type": "markdown",
   "id": "1c986be0-9ec6-4297-a824-fb752b65202f",
   "metadata": {},
   "source": [
    "## Listcomp and Generator Expressions VS map, reduce and filter"
   ]
  },
  {
   "cell_type": "markdown",
   "id": "ded93b50-21a7-48d9-a5a0-261f34136c50",
   "metadata": {},
   "source": [
    "### Listcomp vs map and filter"
   ]
  },
  {
   "cell_type": "code",
   "execution_count": 6,
   "id": "3e78789a-43c6-4237-95e9-fa1fa89a2cbc",
   "metadata": {},
   "outputs": [
    {
     "name": "stdout",
     "output_type": "stream",
     "text": [
      "[1, 1, 2, 6, 24, 120]\n",
      "[1, 1, 2, 6, 24, 120]\n",
      "[1, 2, 24]\n",
      "[1, 2, 24]\n"
     ]
    }
   ],
   "source": [
    "from math import factorial\n",
    "\n",
    "# usage of map\n",
    "factorials_map = list(map(factorial, range(6)))\n",
    "print(factorials_map)\n",
    "\n",
    "# usage of listcomp\n",
    "factorials_list = [factorial(x) for x in range(6)]\n",
    "print(factorials_list)\n",
    "\n",
    "# usage of map with filter\n",
    "factorials_map_filter = (list(map(factorial, filter(lambda x: x % 2 == 0, range(6)))))\n",
    "print(factorials_map_filter)\n",
    "\n",
    "# usage of listcomp with \"filter\"\n",
    "factorials_listcomp_filter = [factorial(x) for x in range(6) if x % 2 == 0]\n",
    "print(factorials_listcomp_filter)"
   ]
  },
  {
   "cell_type": "markdown",
   "id": "f867f483-274d-4a5b-bb2c-d98e72a5cce8",
   "metadata": {},
   "source": [
    "## __call__ magic method"
   ]
  },
  {
   "cell_type": "code",
   "execution_count": 24,
   "id": "42318a85-20b7-4672-bbdb-4e04412e3a9b",
   "metadata": {},
   "outputs": [
    {
     "name": "stdout",
     "output_type": "stream",
     "text": [
      "3\n"
     ]
    }
   ],
   "source": [
    "import random\n",
    "\n",
    "class BingoCage():\n",
    "    def __init__(self, items):\n",
    "        self._items = list(items)\n",
    "        random.shuffle(self._items)\n",
    "    \n",
    "    def pick(self):\n",
    "        try:\n",
    "            return self._items.pop()\n",
    "        except IndexError:\n",
    "            raise LookupError('No more items left in Bingo Cage')\n",
    "    \n",
    "    def __call__(self):\n",
    "        return self.pick()\n",
    "\n",
    "bingo = BingoCage([1,2,3])\n",
    "\n",
    "print(bingo())"
   ]
  },
  {
   "cell_type": "markdown",
   "id": "0295fd7b-dc8c-481c-a550-9fe23eeda059",
   "metadata": {},
   "source": [
    "## Positional and keyword only arguments"
   ]
  },
  {
   "cell_type": "code",
   "execution_count": 41,
   "id": "ffc6d6f1-4d74-4b16-acc4-96e2c1e49693",
   "metadata": {},
   "outputs": [
    {
     "name": "stdout",
     "output_type": "stream",
     "text": [
      "<img alt=\"empty\"/>\n",
      "('foo', 'bar', 'fizz', 'buzz')\n",
      "<p key=\"value\">foo</p>\n",
      "<p key=\"value\">bar</p>\n",
      "<p key=\"value\">fizz</p>\n",
      "<p key=\"value\">buzz</p>\n",
      "('foo', 'bar', 'fizz', 'buzz', 'key')\n",
      "<p>foo</p>\n",
      "<p>bar</p>\n",
      "<p>fizz</p>\n",
      "<p>buzz</p>\n",
      "<p>key</p>\n"
     ]
    }
   ],
   "source": [
    "def tag(name, *content, class_=None, **attrs):\n",
    "    \"\"\"Generate one or more HTML tags\"\"\"\n",
    "    \n",
    "    if class_ is not None:\n",
    "        attrs['class'] = class_\n",
    "    \n",
    "    attr_pairs = (f' {attr}=\"{value}\"' for attr, value in sorted(attrs.items()))\n",
    "    \n",
    "    attr_str = ' '.join(attr_pairs)\n",
    "    \n",
    "    if content:\n",
    "        print(content)\n",
    "        elements = (f'<{name}{attr_str}>{c}</{name}>' for c in content)\n",
    "        return '\\n'.join(elements)\n",
    "    else:\n",
    "        return f'<{name}{attr_str}/>'\n",
    "\n",
    "\n",
    "print(tag('img', alt='empty'))\n",
    "\n",
    "# when using ** -> it's spread to attrs value (keyword arguments)\n",
    "print(tag('p', 'foo', 'bar', 'fizz', 'buzz', **{'key': 'value'}))\n",
    "\n",
    "# when using * -> it's spread to content value (positional arguments) and only key is taken\n",
    "print(tag('p', 'foo', 'bar', 'fizz', 'buzz', *{'key': 'value'}))\n",
    "\n",
    "\n",
    "# positional arguments have to be before keyword argumenst, always\n",
    "\n",
    "# below won't work because first positional argument will be assigned to `name`, and it will class with latter `name` keyword argument\n",
    "# print(tag('content', name='p'))"
   ]
  },
  {
   "cell_type": "code",
   "execution_count": 42,
   "id": "5b5ace59-2ca0-4abc-9e32-3ce0de4dbd22",
   "metadata": {},
   "outputs": [
    {
     "data": {
      "text/plain": [
       "6"
      ]
     },
     "execution_count": 42,
     "metadata": {},
     "output_type": "execute_result"
    }
   ],
   "source": [
    "from functools import partial\n",
    "def multiply(a, b):\n",
    "\treturn a * b\n",
    "\n",
    "triple = partial(multiply, 3)\n",
    "triple(2) # returns 6"
   ]
  }
 ],
 "metadata": {
  "kernelspec": {
   "display_name": "Python 3 (ipykernel)",
   "language": "python",
   "name": "python3"
  },
  "language_info": {
   "codemirror_mode": {
    "name": "ipython",
    "version": 3
   },
   "file_extension": ".py",
   "mimetype": "text/x-python",
   "name": "python",
   "nbconvert_exporter": "python",
   "pygments_lexer": "ipython3",
   "version": "3.10.5"
  }
 },
 "nbformat": 4,
 "nbformat_minor": 5
}
