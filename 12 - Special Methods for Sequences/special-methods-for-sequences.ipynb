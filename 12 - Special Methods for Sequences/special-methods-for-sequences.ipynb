{
 "cells": [
  {
   "cell_type": "code",
   "execution_count": 158,
   "id": "72becf46-1360-466a-ad0f-cc87402a454d",
   "metadata": {},
   "outputs": [
    {
     "name": "stdout",
     "output_type": "stream",
     "text": [
      "7\n",
      "(1.0, 2.0, 3.0, 4.0, 5.0)\n"
     ]
    },
    {
     "data": {
      "text/plain": [
       "'<7.41620, 1.43554, 1.29515, 1.13265, 0.89606>'"
      ]
     },
     "execution_count": 158,
     "metadata": {},
     "output_type": "execute_result"
    }
   ],
   "source": [
    "from array import array\n",
    "import math\n",
    "import reprlib\n",
    "import operator\n",
    "import functools\n",
    "import itertools\n",
    "\n",
    "class Vector:\n",
    "    typecode = 'd'\n",
    "    \n",
    "    __match_args__ = ('x', 'y', 'z', 't')\n",
    "    \n",
    "    \n",
    "    def __init__(self, components):\n",
    "        self._components = array(self.typecode, components)\n",
    "    \n",
    "    # Iterable protocol\n",
    "    def __iter__(self):\n",
    "        return iter(self._components)\n",
    "    \n",
    "    # Sequence protocol\n",
    "    def __len__(self):\n",
    "        return len(self._components)\n",
    "    \n",
    "    # Sequence protocol\n",
    "    def __getitem__(self, key):\n",
    "        if isinstance(key, slice):\n",
    "            cls = type(self)\n",
    "            return cls(self._components[key])\n",
    "        \n",
    "        index = operator.index(key)\n",
    "        return self._components[key]\n",
    "        \n",
    "    \n",
    "    def __getattr__(self, attr):\n",
    "        cls = type(self)\n",
    "        try:\n",
    "            pos = cls.__match_args__.index(attr)\n",
    "        except ValueError:\n",
    "            pos = -1\n",
    "        \n",
    "        if 0 <= pos <= len(self._components):\n",
    "            print('are you here??')\n",
    "            return self._components[pos]\n",
    "        \n",
    "        msg = f'{cls.__name__!r} object has no attribute {attr!r}'\n",
    "        raise AttributeError(msg)\n",
    "\n",
    "    def __repr__(self):\n",
    "        class_name = type(self).__name__\n",
    "        components = reprlib.repr(self._components)\n",
    "        \n",
    "        components = components[components.find('['):-1]\n",
    "        \n",
    "        return f'{class_name}({components})'\n",
    "\n",
    "    def __str__(self):\n",
    "        return str(tuple(self))\n",
    "    \n",
    "    def __bytes__(self):\n",
    "        return (bytes([ord(self.typecode)]) + (bytes(self._components)))\n",
    "    \n",
    "    def __eq__(self, other):\n",
    "        if len(self) != len(other):\n",
    "            return False\n",
    "        return all(a == b for a,b in zip(self, other))\n",
    "\n",
    "    def __hash__(self):\n",
    "        hashes = (hash(x) for x in self._components)\n",
    "        return functools.reduce(operator.xor, hashes, 0)\n",
    "\n",
    "    def __abs__(self):\n",
    "        return math.hypot(*self)\n",
    "    \n",
    "    def __bool__(self):\n",
    "        return bool(abs(self))\n",
    "    \n",
    "    def __format__(self, fmt_spec=''):\n",
    "        if fmt_spec.endswith('h'):\n",
    "            fmt_spec = fmt_spec[:-1]\n",
    "            coords = itertools.chain([abs(self)], self.angles())\n",
    "            outer_fmt = '<{}>'\n",
    "        else:\n",
    "            coords = self\n",
    "            outer_fmt = '({})'\n",
    "            \n",
    "        components = (format(c, fmt_spec) for c in coords)\n",
    "        \n",
    "        return outer_fmt.format(', '.join(components))\n",
    "    \n",
    "    @classmethod\n",
    "    def from_bytes(cls, octets):\n",
    "        cls.typecode = chr(octets[0])\n",
    "        \n",
    "        memv = memoryview(octets[1:]).cast(cls.typecode)\n",
    "        \n",
    "        return cls(memv)\n",
    "    \n",
    "    def angle(self, n):\n",
    "        r = math.hypot(*self[n:])\n",
    "        a = math.atan2(r, self[n-1])\n",
    "        if (n == len(self) - 1) and (self[-1] < 0):\n",
    "            return math.pi * 2 - a\n",
    "        else:\n",
    "            return a\n",
    "    \n",
    "    def angles(self):\n",
    "        return (self.angle(n) for n in range(1, len(self)))\n",
    "\n",
    "v = Vector([1,2,3,4,5])\n",
    "\n",
    "v.x = 7\n",
    "print(v.x)\n",
    "print(v)\n",
    "\n",
    "format(v, '0.5fh')"
   ]
  },
  {
   "cell_type": "code",
   "execution_count": 147,
   "id": "f41f9532-5f07-4f34-ab46-6da60efbe339",
   "metadata": {},
   "outputs": [
    {
     "name": "stdout",
     "output_type": "stream",
     "text": [
      "9475\n"
     ]
    }
   ],
   "source": [
    "import operator\n",
    "\n",
    "print(operator.xor(12345, 5434))"
   ]
  },
  {
   "cell_type": "markdown",
   "id": "4c86076b-688d-4220-b828-188b6bfe10a7",
   "metadata": {},
   "source": [
    "In above example `v.x` is set on `v` as an instance attribute. When we retrieve it through `v.x` it prints the updated value.\n",
    "\n",
    "However, when printing the whole vector only `self._components` are taken into account, so `x` instance attribute is skipped."
   ]
  }
 ],
 "metadata": {
  "kernelspec": {
   "display_name": "Python 3 (ipykernel)",
   "language": "python",
   "name": "python3"
  },
  "language_info": {
   "codemirror_mode": {
    "name": "ipython",
    "version": 3
   },
   "file_extension": ".py",
   "mimetype": "text/x-python",
   "name": "python",
   "nbconvert_exporter": "python",
   "pygments_lexer": "ipython3",
   "version": "3.10.5"
  }
 },
 "nbformat": 4,
 "nbformat_minor": 5
}
