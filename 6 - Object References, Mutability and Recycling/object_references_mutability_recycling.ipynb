{
 "cells": [
  {
   "cell_type": "markdown",
   "id": "a95f2984-b931-4bb7-aee5-0f7deb2d4101",
   "metadata": {},
   "source": [
    "## Stack Frames and references"
   ]
  },
  {
   "cell_type": "code",
   "execution_count": 1,
   "id": "ae047eb4-bfaa-4f13-b9fc-4ace509b5b61",
   "metadata": {},
   "outputs": [
    {
     "name": "stdout",
     "output_type": "stream",
     "text": [
      "4395409408\n",
      "4395409408\n",
      "['Bogna']\n"
     ]
    }
   ],
   "source": [
    "people = ['Bogna']\n",
    "\n",
    "def add_people(peeps = None):\n",
    "    print(id(peeps))\n",
    "    peeps.append('Bartek')\n",
    "    \n",
    "def remove_people(peeps = None):\n",
    "    print(id(peeps))\n",
    "    peeps.pop()\n",
    "    \n",
    "add_people(people)\n",
    "\n",
    "remove_people(people)\n",
    "\n",
    "print(people)\n",
    "    "
   ]
  },
  {
   "cell_type": "markdown",
   "id": "b5587be4-6368-4335-bd91-193c20419b9c",
   "metadata": {},
   "source": [
    "## Copy and Deepcopy"
   ]
  },
  {
   "cell_type": "code",
   "execution_count": 6,
   "id": "610f4ecf-b681-4e72-8a77-694e992a34d3",
   "metadata": {},
   "outputs": [
    {
     "name": "stdout",
     "output_type": "stream",
     "text": [
      "bus1: 4397393248, bus2: 4397385952, bus3: 4397399584\n",
      "['Alice']\n",
      "['Alice']\n",
      "['Alice', 'Bill']\n"
     ]
    }
   ],
   "source": [
    "import copy\n",
    "\n",
    "class Bus:\n",
    "    \n",
    "    def __init__(self, passangers = None):\n",
    "        if passangers is None:\n",
    "            self.passangers = []\n",
    "        else:\n",
    "            self.passangers = list(passangers)\n",
    "\n",
    "    def pick(self, name):\n",
    "        self.passangers.append(name)\n",
    "\n",
    "    def drop(self, name):\n",
    "        self.passangers.remove(name)\n",
    "\n",
    "\n",
    "bus1 = Bus(['Alice', 'Bill'])\n",
    "bus2 = copy.copy(bus1)\n",
    "bus3 = copy.deepcopy(bus1)\n",
    "\n",
    "print(f\"bus1: {id(bus1)}, bus2: {id(bus2)}, bus3: {id(bus3)}\")\n",
    "\n",
    "bus1.drop('Bill')\n",
    "print(bus1.passangers)\n",
    "print(bus2.passangers)\n",
    "print(bus3.passangers)"
   ]
  },
  {
   "cell_type": "markdown",
   "id": "edf6202e-57d4-4437-ad28-bee5cf61b7f9",
   "metadata": {},
   "source": [
    "### Cyclic reference in Deepcopy"
   ]
  },
  {
   "cell_type": "code",
   "execution_count": 17,
   "id": "cd95679f-c59a-4e07-99f8-8eb54422777b",
   "metadata": {},
   "outputs": [
    {
     "name": "stdout",
     "output_type": "stream",
     "text": [
      "[1, 2, [[...], 3]]\n",
      "[[1, 2, [...]], 3]\n",
      "4425262784\n",
      "4425262784\n",
      "4424745536\n",
      "4424745536\n",
      "[1, 2, [[...], 3]]\n",
      "4425290240\n"
     ]
    }
   ],
   "source": [
    "import copy\n",
    "\n",
    "a = [1, 2]\n",
    "b = [a, 3]\n",
    "a.append(b)\n",
    "\n",
    "print(a)\n",
    "print(b)\n",
    "\n",
    "# reference to a is hold in b\n",
    "print(id(b[0]))\n",
    "print(id(a))\n",
    "\n",
    "# reference to b is hold in a\n",
    "print(id(a[-1]))\n",
    "print(id(b))\n",
    "\n",
    "c = copy.deepcopy(a)\n",
    "print(c)\n",
    "\n",
    "# c no longer helds reference to a, it contains new object\n",
    "print(id(c[-1]))"
   ]
  },
  {
   "cell_type": "markdown",
   "id": "2660ddff-0dc3-4bc2-ae58-46948e6053a1",
   "metadata": {},
   "source": [
    "## Mutable as default values for arguments"
   ]
  },
  {
   "cell_type": "code",
   "execution_count": 19,
   "id": "bf21c70c-15a6-4651-b72e-a409ac3324aa",
   "metadata": {},
   "outputs": [
    {
     "name": "stdout",
     "output_type": "stream",
     "text": [
      "['Charlie']\n",
      "['Charlie']\n",
      "['Alice']\n"
     ]
    }
   ],
   "source": [
    "class Bus:\n",
    "    \n",
    "    def __init__(self, passangers = []):\n",
    "        self.passangers = passangers\n",
    "\n",
    "    def pick(self, name):\n",
    "        self.passangers.append(name)\n",
    "\n",
    "    def drop(self, name):\n",
    "        self.passangers.remove(name)\n",
    "\n",
    "bus1 = Bus()\n",
    "bus2 = Bus()\n",
    "bus3 = Bus(['Alice'])\n",
    "\n",
    "bus1.pick('Charlie')\n",
    "\n",
    "print(bus1.passangers)\n",
    "print(bus2.passangers)\n",
    "print(bus3.passangers)"
   ]
  }
 ],
 "metadata": {
  "kernelspec": {
   "display_name": "Python 3 (ipykernel)",
   "language": "python",
   "name": "python3"
  },
  "language_info": {
   "codemirror_mode": {
    "name": "ipython",
    "version": 3
   },
   "file_extension": ".py",
   "mimetype": "text/x-python",
   "name": "python",
   "nbconvert_exporter": "python",
   "pygments_lexer": "ipython3",
   "version": "3.10.5"
  }
 },
 "nbformat": 4,
 "nbformat_minor": 5
}
