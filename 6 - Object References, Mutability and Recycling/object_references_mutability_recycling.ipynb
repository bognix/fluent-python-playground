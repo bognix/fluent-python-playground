{
 "cells": [
  {
   "cell_type": "markdown",
   "id": "a95f2984-b931-4bb7-aee5-0f7deb2d4101",
   "metadata": {},
   "source": [
    "## Stack Frames and references"
   ]
  },
  {
   "cell_type": "code",
   "execution_count": 1,
   "id": "ae047eb4-bfaa-4f13-b9fc-4ace509b5b61",
   "metadata": {},
   "outputs": [
    {
     "name": "stdout",
     "output_type": "stream",
     "text": [
      "4395409408\n",
      "4395409408\n",
      "['Bogna']\n"
     ]
    }
   ],
   "source": [
    "people = ['Bogna']\n",
    "\n",
    "def add_people(peeps = None):\n",
    "    print(id(peeps))\n",
    "    peeps.append('Bartek')\n",
    "    \n",
    "def remove_people(peeps = None):\n",
    "    print(id(peeps))\n",
    "    peeps.pop()\n",
    "    \n",
    "add_people(people)\n",
    "\n",
    "remove_people(people)\n",
    "\n",
    "print(people)\n",
    "    "
   ]
  },
  {
   "cell_type": "markdown",
   "id": "b5587be4-6368-4335-bd91-193c20419b9c",
   "metadata": {},
   "source": [
    "## Copy and Deepcopy"
   ]
  },
  {
   "cell_type": "code",
   "execution_count": 6,
   "id": "610f4ecf-b681-4e72-8a77-694e992a34d3",
   "metadata": {},
   "outputs": [
    {
     "name": "stdout",
     "output_type": "stream",
     "text": [
      "bus1: 4397393248, bus2: 4397385952, bus3: 4397399584\n",
      "['Alice']\n",
      "['Alice']\n",
      "['Alice', 'Bill']\n"
     ]
    }
   ],
   "source": [
    "import copy\n",
    "\n",
    "class Bus:\n",
    "    \n",
    "    def __init__(self, passangers = None):\n",
    "        if passangers is None:\n",
    "            self.passangers = []\n",
    "        else:\n",
    "            self.passangers = list(passangers)\n",
    "\n",
    "    def pick(self, name):\n",
    "        self.passangers.append(name)\n",
    "\n",
    "    def drop(self, name):\n",
    "        self.passangers.remove(name)\n",
    "\n",
    "\n",
    "bus1 = Bus(['Alice', 'Bill'])\n",
    "bus2 = copy.copy(bus1)\n",
    "bus3 = copy.deepcopy(bus1)\n",
    "\n",
    "print(f\"bus1: {id(bus1)}, bus2: {id(bus2)}, bus3: {id(bus3)}\")\n",
    "\n",
    "bus1.drop('Bill')\n",
    "print(bus1.passangers)\n",
    "print(bus2.passangers)\n",
    "print(bus3.passangers)"
   ]
  },
  {
   "cell_type": "markdown",
   "id": "edf6202e-57d4-4437-ad28-bee5cf61b7f9",
   "metadata": {},
   "source": [
    "### Cyclic reference in Deepcopy"
   ]
  },
  {
   "cell_type": "code",
   "execution_count": 17,
   "id": "cd95679f-c59a-4e07-99f8-8eb54422777b",
   "metadata": {},
   "outputs": [
    {
     "name": "stdout",
     "output_type": "stream",
     "text": [
      "[1, 2, [[...], 3]]\n",
      "[[1, 2, [...]], 3]\n",
      "4425262784\n",
      "4425262784\n",
      "4424745536\n",
      "4424745536\n",
      "[1, 2, [[...], 3]]\n",
      "4425290240\n"
     ]
    }
   ],
   "source": [
    "import copy\n",
    "\n",
    "a = [1, 2]\n",
    "b = [a, 3]\n",
    "a.append(b)\n",
    "\n",
    "print(a)\n",
    "print(b)\n",
    "\n",
    "# reference to a is hold in b\n",
    "print(id(b[0]))\n",
    "print(id(a))\n",
    "\n",
    "# reference to b is hold in a\n",
    "print(id(a[-1]))\n",
    "print(id(b))\n",
    "\n",
    "c = copy.deepcopy(a)\n",
    "print(c)\n",
    "\n",
    "# c no longer helds reference to a, it contains new object\n",
    "print(id(c[-1]))"
   ]
  },
  {
   "cell_type": "markdown",
   "id": "2660ddff-0dc3-4bc2-ae58-46948e6053a1",
   "metadata": {},
   "source": [
    "## Playing with arguments"
   ]
  },
  {
   "cell_type": "markdown",
   "id": "8c2fb2dc-670a-4982-bc9d-bd9878feaf7c",
   "metadata": {},
   "source": [
    "### Mutable as default argument values"
   ]
  },
  {
   "cell_type": "code",
   "execution_count": 19,
   "id": "bf21c70c-15a6-4651-b72e-a409ac3324aa",
   "metadata": {},
   "outputs": [
    {
     "name": "stdout",
     "output_type": "stream",
     "text": [
      "['Charlie']\n",
      "['Charlie']\n",
      "['Alice']\n"
     ]
    }
   ],
   "source": [
    "class Bus:\n",
    "    \n",
    "    def __init__(self, passangers = []):\n",
    "        self.passangers = passangers\n",
    "\n",
    "    def pick(self, name):\n",
    "        self.passangers.append(name)\n",
    "\n",
    "    def drop(self, name):\n",
    "        self.passangers.remove(name)\n",
    "\n",
    "bus1 = Bus()\n",
    "bus2 = Bus()\n",
    "bus3 = Bus(['Alice'])\n",
    "\n",
    "bus1.pick('Charlie')\n",
    "\n",
    "print(bus1.passangers)\n",
    "print(bus2.passangers)\n",
    "print(bus3.passangers)"
   ]
  },
  {
   "cell_type": "markdown",
   "id": "0f871294-2a0c-4ce5-b322-6376312adb33",
   "metadata": {},
   "source": [
    "### Immutable as arguments"
   ]
  },
  {
   "cell_type": "code",
   "execution_count": 86,
   "id": "cf83ada9-ff3e-41a5-9a91-f25fc5ebdc5b",
   "metadata": {},
   "outputs": [
    {
     "name": "stdout",
     "output_type": "stream",
     "text": [
      "4604952000\n",
      "4604952000\n",
      "\n",
      "\n",
      "4373840112\n",
      "4373840112\n"
     ]
    }
   ],
   "source": [
    "def mutation(i):\n",
    "    x = i\n",
    "    print(id(x))\n",
    "\n",
    "l = [1]\n",
    "print(id(l))\n",
    "mutation(l)\n",
    "\n",
    "print('\\n')\n",
    "\n",
    "t = (1)\n",
    "print(id(t))\n",
    "mutation(t)"
   ]
  },
  {
   "cell_type": "markdown",
   "id": "be88c7c2-607e-44fa-a300-bb787d3699c0",
   "metadata": {},
   "source": [
    "### Arguments are always referenced"
   ]
  },
  {
   "cell_type": "code",
   "execution_count": null,
   "id": "f29ae87e-80f8-44b0-bff1-f9c546d52ad2",
   "metadata": {},
   "outputs": [],
   "source": [
    "def fun(x):\n",
    "    print(f\"value of x: {x}\\n\")"
   ]
  },
  {
   "cell_type": "markdown",
   "id": "c3102371-ab59-4212-973a-aac47589e68c",
   "metadata": {},
   "source": [
    "## Garbage Collection"
   ]
  },
  {
   "cell_type": "code",
   "execution_count": 54,
   "id": "9101953a-a94a-476b-98cf-95e94e01b0a6",
   "metadata": {},
   "outputs": [
    {
     "name": "stdout",
     "output_type": "stream",
     "text": [
      "4593062560\n",
      "4593062560\n",
      "True\n",
      "True\n",
      "Bye...\n"
     ]
    }
   ],
   "source": [
    "import weakref\n",
    "\n",
    "s1 = {1, 2, 3}\n",
    "s2 = s1\n",
    "\n",
    "print(id(s2))\n",
    "print(id(s1))\n",
    "\n",
    "def bye():\n",
    "    print('Bye...')\n",
    "    \n",
    "ender = weakref.finalize(s1, bye)\n",
    "print(ender.alive)\n",
    "\n",
    "del s1\n",
    "print(ender.alive)\n",
    "\n",
    "del s2"
   ]
  },
  {
   "cell_type": "markdown",
   "id": "15873d1c-6909-4aae-a474-fa14f7cce3a1",
   "metadata": {},
   "source": [
    "### References to immutables"
   ]
  },
  {
   "cell_type": "code",
   "execution_count": 65,
   "id": "c325ff3a-52f9-4396-897d-89bb0cf6b843",
   "metadata": {},
   "outputs": [
    {
     "name": "stdout",
     "output_type": "stream",
     "text": [
      "Tuples...\n",
      "4605540800\n",
      "4605540800\n",
      "4605540800\n",
      "\n",
      "\n",
      "Strings...\n",
      "4414909296\n",
      "4414909296\n",
      "4414909296\n",
      "4605496240\n",
      "4414909296\n",
      "4414909296\n"
     ]
    }
   ],
   "source": [
    "print('Tuples...')\n",
    "t1 = (1,2)\n",
    "t2 = tuple(t1)\n",
    "t3 = t1[:]\n",
    "\n",
    "print(id(t1))\n",
    "print(id(t2))\n",
    "print(id(t3))\n",
    "print('\\n')\n",
    "\n",
    "print('Strings...')\n",
    "s1 = 'foo'\n",
    "s2 = str(s1)\n",
    "s3 = s1[:]\n",
    "\n",
    "print(id(s1))\n",
    "print(id(s2))\n",
    "print(id(s3))\n",
    "\n",
    "s1 += 'bar'\n",
    "\n",
    "# s1 becomes a new str instance\n",
    "print(id(s1))\n",
    "print(id(s2))\n",
    "print(id(s3))"
   ]
  },
  {
   "cell_type": "markdown",
   "id": "4762491b-b63f-42ef-ad3d-42dd12e3f1ac",
   "metadata": {},
   "source": [
    "## Interning"
   ]
  },
  {
   "cell_type": "code",
   "execution_count": 81,
   "id": "c9a0aa5f-ae0f-4ad8-97b6-e078e3c60e53",
   "metadata": {},
   "outputs": [
    {
     "name": "stdout",
     "output_type": "stream",
     "text": [
      "4373840048\n",
      "4373840048\n",
      "\n",
      "\n",
      "4373840048\n",
      "4373839952\n",
      "\n",
      "\n",
      "4373840112\n",
      "4373840112\n"
     ]
    }
   ],
   "source": [
    "i1 = -1\n",
    "i2 = -1\n",
    "\n",
    "print(id(i1))\n",
    "print(id(i2))\n",
    "print('\\n')\n",
    "\n",
    "i2 -= 3\n",
    "print(id(i1))\n",
    "print(id(i2))\n",
    "print('\\n')\n",
    "\n",
    "t1 = (1)\n",
    "t2 = (1)\n",
    "print(id(t1))\n",
    "print(id(t2))"
   ]
  }
 ],
 "metadata": {
  "kernelspec": {
   "display_name": "Python 3 (ipykernel)",
   "language": "python",
   "name": "python3"
  },
  "language_info": {
   "codemirror_mode": {
    "name": "ipython",
    "version": 3
   },
   "file_extension": ".py",
   "mimetype": "text/x-python",
   "name": "python",
   "nbconvert_exporter": "python",
   "pygments_lexer": "ipython3",
   "version": "3.10.5"
  }
 },
 "nbformat": 4,
 "nbformat_minor": 5
}
