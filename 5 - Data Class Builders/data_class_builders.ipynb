{
 "cells": [
  {
   "cell_type": "markdown",
   "id": "b411bd75-0f10-4c2e-8955-047cd75755c0",
   "metadata": {},
   "source": [
    "## The meaning of variable annotation"
   ]
  },
  {
   "cell_type": "markdown",
   "id": "44b6840c-1c59-47bb-8e8b-f3c70db1e978",
   "metadata": {},
   "source": [
    "### Class attribute vs Instance attribute"
   ]
  },
  {
   "cell_type": "code",
   "execution_count": 12,
   "id": "a824a5fa-7d50-49be-8952-0f520a07a0f6",
   "metadata": {},
   "outputs": [],
   "source": [
    "class DemoClass:\n",
    "    a: int\n",
    "    b: float = 1.1\n",
    "    c: str = 'foo'\n",
    "    \n",
    "dc = DemoClass()\n"
   ]
  },
  {
   "cell_type": "markdown",
   "id": "544d2192-0b78-45f3-8ec8-e29f784cd57f",
   "metadata": {},
   "source": [
    "`a` doesn't exist as neither `DemoClass` class attribute, nor `dc` instance attribute because it doesn't have a default value."
   ]
  },
  {
   "cell_type": "code",
   "execution_count": 10,
   "id": "74030062-8ee1-4c87-a6f8-ec35c4d5c102",
   "metadata": {},
   "outputs": [
    {
     "name": "stdout",
     "output_type": "stream",
     "text": [
      "{'a': <class 'int'>, 'b': <class 'float'>, 'c': <class 'str'>}\n",
      "1.1\n"
     ]
    },
    {
     "ename": "AttributeError",
     "evalue": "type object 'DemoClass' has no attribute 'a'",
     "output_type": "error",
     "traceback": [
      "\u001b[0;31m---------------------------------------------------------------------------\u001b[0m",
      "\u001b[0;31mAttributeError\u001b[0m                            Traceback (most recent call last)",
      "Input \u001b[0;32mIn [10]\u001b[0m, in \u001b[0;36m<cell line: 3>\u001b[0;34m()\u001b[0m\n\u001b[1;32m      1\u001b[0m \u001b[38;5;28mprint\u001b[39m(dc\u001b[38;5;241m.\u001b[39m\u001b[38;5;18m__annotations__\u001b[39m)\n\u001b[1;32m      2\u001b[0m \u001b[38;5;28mprint\u001b[39m(DemoClass\u001b[38;5;241m.\u001b[39mb)\n\u001b[0;32m----> 3\u001b[0m \u001b[38;5;28mprint\u001b[39m(\u001b[43mDemoClass\u001b[49m\u001b[38;5;241;43m.\u001b[39;49m\u001b[43ma\u001b[49m)\n\u001b[1;32m      4\u001b[0m \u001b[38;5;28mprint\u001b[39m(dc\u001b[38;5;241m.\u001b[39ma)\n",
      "\u001b[0;31mAttributeError\u001b[0m: type object 'DemoClass' has no attribute 'a'"
     ]
    }
   ],
   "source": [
    "print(dc.__annotations__)\n",
    "print(DemoClass.b)\n",
    "print(DemoClass.a)\n",
    "print(dc.a)"
   ]
  },
  {
   "cell_type": "markdown",
   "id": "769d9e9a-7dbb-4400-8e58-07c536b424d9",
   "metadata": {},
   "source": [
    "Class attributes are shared between instances, even if they are primitive values."
   ]
  },
  {
   "cell_type": "code",
   "execution_count": 11,
   "id": "b74d5fbd-e253-4e0b-a245-9e483f6a3c9b",
   "metadata": {
    "scrolled": true
   },
   "outputs": [
    {
     "name": "stdout",
     "output_type": "stream",
     "text": [
      "fizz\n"
     ]
    }
   ],
   "source": [
    "DemoClass.b = 'fizz'\n",
    "print(dc.b)"
   ]
  },
  {
   "cell_type": "markdown",
   "id": "2ff60f18-92f7-4b1f-96df-d5dccc1d8f79",
   "metadata": {},
   "source": [
    "### Named Tuples"
   ]
  },
  {
   "cell_type": "code",
   "execution_count": 2,
   "id": "6fc91334-723f-44ba-9263-cce0371e9f76",
   "metadata": {},
   "outputs": [
    {
     "name": "stdout",
     "output_type": "stream",
     "text": [
      "{'a': <class 'int'>, 'b': <class 'float'>}\n"
     ]
    }
   ],
   "source": [
    "import typing\n",
    "\n",
    "class DemoNTClass(typing.NamedTuple):\n",
    "    a: int\n",
    "    b: float = 1.1\n",
    "    c = 'foo'\n",
    "\n",
    "print(DemoNTClass.__annotations__)"
   ]
  },
  {
   "cell_type": "markdown",
   "id": "80e4144b-2a4d-4bc7-b824-99aae26dafef",
   "metadata": {},
   "source": [
    "both `a` and `b` are class attributes, not instance attributes."
   ]
  },
  {
   "cell_type": "code",
   "execution_count": 19,
   "id": "01488c9b-0732-44b5-b69d-84e715183308",
   "metadata": {},
   "outputs": [
    {
     "name": "stdout",
     "output_type": "stream",
     "text": [
      "1.3\n"
     ]
    }
   ],
   "source": [
    "dnc = DemoNTClass(8)\n",
    "DemoNTClass.b = 1.3\n",
    "print(dnc.b)"
   ]
  },
  {
   "cell_type": "markdown",
   "id": "f9ab8a8a-1c0f-4d15-b2de-5524660ab1ca",
   "metadata": {},
   "source": [
    "## Pattern Matching Class Instances"
   ]
  },
  {
   "cell_type": "code",
   "execution_count": 13,
   "id": "2b1a41bf-ecae-4092-8e12-14827efe6563",
   "metadata": {},
   "outputs": [
    {
     "name": "stdout",
     "output_type": "stream",
     "text": [
      "['JP', 'IN']\n",
      "['JP', 'IN']\n"
     ]
    }
   ],
   "source": [
    "import typing\n",
    "\n",
    "class City(typing.NamedTuple):\n",
    "    continent: str\n",
    "    name: str\n",
    "    country: str\n",
    "\n",
    "\n",
    "cities = [\n",
    "    City('Asia', 'Tokyo', 'JP'),\n",
    "    City('Asia', 'Delhi', 'IN'),\n",
    "    City('North America', 'Mexico City', 'MX'),\n",
    "    City('North America', 'New York', 'US'),\n",
    "    City('South America', 'São Paulo', 'BR'),\n",
    "]\n",
    "\n",
    "def match_asian_countries():\n",
    "    results = []\n",
    "    for city in cities:\n",
    "        match city:\n",
    "            case City(continent='Asia', country=cc):\n",
    "                results.append(cc)\n",
    "    return results\n",
    "\n",
    "print(match_asian_countries())\n",
    "\n",
    "def match_asian_countries_v2():\n",
    "    results = []\n",
    "    for city in cities:\n",
    "        match city:\n",
    "            case City(continent='Asia'):\n",
    "                results.append(city.country)\n",
    "    return results\n",
    "print(match_asian_countries_v2())"
   ]
  }
 ],
 "metadata": {
  "kernelspec": {
   "display_name": "Python 3 (ipykernel)",
   "language": "python",
   "name": "python3"
  },
  "language_info": {
   "codemirror_mode": {
    "name": "ipython",
    "version": 3
   },
   "file_extension": ".py",
   "mimetype": "text/x-python",
   "name": "python",
   "nbconvert_exporter": "python",
   "pygments_lexer": "ipython3",
   "version": "3.11.0"
  }
 },
 "nbformat": 4,
 "nbformat_minor": 5
}
