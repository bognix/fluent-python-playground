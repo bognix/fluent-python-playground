{
 "cells": [
  {
   "cell_type": "markdown",
   "metadata": {},
   "source": [
    "## Tuple Typing"
   ]
  },
  {
   "cell_type": "code",
   "execution_count": 3,
   "metadata": {},
   "outputs": [
    {
     "name": "stdout",
     "output_type": "stream",
     "text": [
      "3\n",
      "2 1\n",
      "3\n"
     ]
    },
    {
     "data": {
      "text/plain": [
       "[(1, 4, 7), (2, 5), (3, 6)]"
      ]
     },
     "execution_count": 3,
     "metadata": {},
     "output_type": "execute_result"
    }
   ],
   "source": [
    "from collections.abc import Sequence\n",
    "\n",
    "def columnize(sequence: Sequence[str], num_columns: int = 0) -> list[tuple[str, ...]]:\n",
    "    if num_columns == 0:\n",
    "        num_columns = round(len(sequence) ** 0.5)\n",
    "        print(num_columns)\n",
    "    \n",
    "    num_rows, reminder = divmod(len(sequence), num_columns)\n",
    "    print(num_rows, reminder)\n",
    "    \n",
    "    # in case reminder is bigger than 1, it will go down to 1\n",
    "    num_rows += bool(reminder)\n",
    "    print(num_rows)\n",
    "    \n",
    "    return [tuple(sequence[i::num_rows]) for i in range(num_rows)]\n",
    "\n",
    "columnize([1,2,3,4,5,6,7])"
   ]
  },
  {
   "cell_type": "code",
   "execution_count": 10,
   "metadata": {},
   "outputs": [
    {
     "name": "stdout",
     "output_type": "stream",
     "text": [
      "4\n"
     ]
    }
   ],
   "source": [
    "x = 3\n",
    "x+= bool(3)\n",
    "print(x)"
   ]
  },
  {
   "cell_type": "markdown",
   "metadata": {},
   "source": [
    "## Generic Mapping"
   ]
  },
  {
   "cell_type": "code",
   "execution_count": 14,
   "metadata": {},
   "outputs": [
    {
     "name": "stdout",
     "output_type": "stream",
     "text": [
      "{'8'}\n"
     ]
    }
   ],
   "source": [
    "import sys\n",
    "import re\n",
    "import unicodedata\n",
    "from collections.abc import Iterator\n",
    "\n",
    "RE_WORD = re.compile(r'\\w+')\n",
    "STOP_CODE = sys.maxunicode + 1\n",
    "\n",
    "def tokenize(text: str) -> Iterator[str]:\n",
    "    \"\"\"return iterable of uppercased words\"\"\"\n",
    "    for match in RE_WORD.finditer(text):\n",
    "        yield match.group().upper()\n",
    "\n",
    "def name_index(start: int = 32, stop: int = STOP_CODE) -> dict[str, set[str]]:\n",
    "    index: dict[str, set[str]] = {}\n",
    "    for char in (chr(i) for i in range(start, stop)):\n",
    "        if name := unicodedata.name(char, ''):\n",
    "                for word in tokenize(name):\n",
    "                    index.setdefault(word, set()).add(char)\n",
    "    \n",
    "    return index\n",
    "\n",
    "result = name_index(stop=65)\n",
    "\n",
    "print(result['EIGHT'] & result['DIGIT'])"
   ]
  }
 ],
 "metadata": {
  "kernelspec": {
   "display_name": "Python 3 (ipykernel)",
   "language": "python",
   "name": "python3"
  },
  "language_info": {
   "codemirror_mode": {
    "name": "ipython",
    "version": 3
   },
   "file_extension": ".py",
   "mimetype": "text/x-python",
   "name": "python",
   "nbconvert_exporter": "python",
   "pygments_lexer": "ipython3",
   "version": "3.11.0"
  }
 },
 "nbformat": 4,
 "nbformat_minor": 2
}
