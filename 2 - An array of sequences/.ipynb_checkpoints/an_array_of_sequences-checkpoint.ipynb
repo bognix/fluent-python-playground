{
 "cells": [
  {
   "cell_type": "markdown",
   "id": "2f31030a-386d-4f34-a26c-3c5cc6e034f2",
   "metadata": {},
   "source": [
    "## Walrus Operator"
   ]
  },
  {
   "cell_type": "code",
   "execution_count": 6,
   "id": "40f23a23-0535-4ec5-93ae-7618bbb3b9bb",
   "metadata": {},
   "outputs": [
    {
     "name": "stdout",
     "output_type": "stream",
     "text": [
      "foo\n"
     ]
    }
   ],
   "source": [
    "def foo():\n",
    "    return (foo := 'foo')\n",
    "\n",
    "print(foo())"
   ]
  },
  {
   "cell_type": "code",
   "execution_count": null,
   "id": "610c2fe0-6df1-49b3-beed-42fbf1faabd1",
   "metadata": {},
   "outputs": [],
   "source": [
    "# this code will throw an error when executed\n",
    "def bar():\n",
    "    return (bar = 'bar')\n",
    "print(bar())"
   ]
  },
  {
   "cell_type": "markdown",
   "id": "e272dff0-59e2-4d57-b65b-dfe82847f381",
   "metadata": {},
   "source": [
    "## List comperhension and generator expressions"
   ]
  },
  {
   "cell_type": "markdown",
   "id": "9af150f9-89d9-4eff-a3f1-329980c2ca11",
   "metadata": {},
   "source": [
    "List comperhensions, generator expressions and few others have a local scope to hold the variables assigned in the `for` clause"
   ]
  },
  {
   "cell_type": "code",
   "execution_count": 9,
   "id": "96c8da77-468f-4f90-ae70-58d52690bcad",
   "metadata": {},
   "outputs": [
    {
     "name": "stdout",
     "output_type": "stream",
     "text": [
      "[2, 4, 6]\n"
     ]
    },
    {
     "ename": "NameError",
     "evalue": "name 'x' is not defined",
     "output_type": "error",
     "traceback": [
      "\u001b[0;31m---------------------------------------------------------------------------\u001b[0m",
      "\u001b[0;31mNameError\u001b[0m                                 Traceback (most recent call last)",
      "Input \u001b[0;32mIn [9]\u001b[0m, in \u001b[0;36m<cell line: 6>\u001b[0;34m()\u001b[0m\n\u001b[1;32m      3\u001b[0m \u001b[38;5;28mprint\u001b[39m(l2)\n\u001b[1;32m      5\u001b[0m \u001b[38;5;66;03m# below line will throw\u001b[39;00m\n\u001b[0;32m----> 6\u001b[0m \u001b[38;5;28mprint\u001b[39m(\u001b[43mx\u001b[49m)\n",
      "\u001b[0;31mNameError\u001b[0m: name 'x' is not defined"
     ]
    }
   ],
   "source": [
    "l = [1,2,3]\n",
    "l2 = [x*2 for x in l]\n",
    "print(l2)\n",
    "\n",
    "# below line will throw\n",
    "print(x)"
   ]
  },
  {
   "cell_type": "markdown",
   "id": "337b0f59-9896-4ced-b5fe-c86caf1be62d",
   "metadata": {},
   "source": [
    "Warlus is a way to navigate around it and store the most-recent value of `x`"
   ]
  },
  {
   "cell_type": "code",
   "execution_count": 11,
   "id": "ba303b81-900e-44bf-962b-c4a1e67fd632",
   "metadata": {},
   "outputs": [
    {
     "name": "stdout",
     "output_type": "stream",
     "text": [
      "[2, 4, 6]\n",
      "6\n"
     ]
    }
   ],
   "source": [
    "l = [1,2,3]\n",
    "l2 = [last:=x*2 for x in l]\n",
    "print(l2)\n",
    "\n",
    "print(last)"
   ]
  },
  {
   "cell_type": "markdown",
   "id": "c1f15635-e282-497b-b512-6a094c06d58e",
   "metadata": {},
   "source": [
    "### Listcomp vs `map` and `filter`\n",
    "\n",
    "Listcomp can do everything what combination of `map` and `filter` can do, and it doesn't require usage of `lamda` functions. The performance of both solutions is comperable."
   ]
  },
  {
   "cell_type": "markdown",
   "id": "5835b770-6663-4da8-bff8-4546a150bea6",
   "metadata": {},
   "source": [
    "### Cartesian product using listcomp"
   ]
  },
  {
   "cell_type": "code",
   "execution_count": 13,
   "id": "f09fdbbb-43a1-4b26-a000-6b8388435ac5",
   "metadata": {},
   "outputs": [
    {
     "name": "stdout",
     "output_type": "stream",
     "text": [
      "[('S', 'red'), ('S', 'green'), ('S', 'blue'), ('M', 'red'), ('M', 'green'), ('M', 'blue'), ('L', 'red'), ('L', 'green'), ('L', 'blue')]\n",
      "[('red', 'S'), ('red', 'M'), ('red', 'L'), ('green', 'S'), ('green', 'M'), ('green', 'L'), ('blue', 'S'), ('blue', 'M'), ('blue', 'L')]\n"
     ]
    }
   ],
   "source": [
    "sizes = ['S', 'M', 'L']\n",
    "colors = ['red', 'green', 'blue']\n",
    "\n",
    "by_size = [(size, color) for size in sizes for color in colors]\n",
    "print(by_size)\n",
    "\n",
    "by_color = [(color, size) for color in colors for size in sizes]\n",
    "print(by_color)"
   ]
  },
  {
   "cell_type": "markdown",
   "id": "f83c5468-65bc-4472-9886-5df9c47351e7",
   "metadata": {},
   "source": [
    "Listcomp can only create lists, use generator expressions (genexp) to create other data structures."
   ]
  }
 ],
 "metadata": {
  "kernelspec": {
   "display_name": "Python 3 (ipykernel)",
   "language": "python",
   "name": "python3"
  },
  "language_info": {
   "codemirror_mode": {
    "name": "ipython",
    "version": 3
   },
   "file_extension": ".py",
   "mimetype": "text/x-python",
   "name": "python",
   "nbconvert_exporter": "python",
   "pygments_lexer": "ipython3",
   "version": "3.10.5"
  }
 },
 "nbformat": 4,
 "nbformat_minor": 5
}
