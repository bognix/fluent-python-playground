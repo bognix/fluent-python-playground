{
 "cells": [
  {
   "cell_type": "markdown",
   "id": "3209cb22",
   "metadata": {},
   "source": [
    "## Walrus Operator"
   ]
  },
  {
   "cell_type": "code",
   "execution_count": 6,
   "id": "b9ba9fd6",
   "metadata": {},
   "outputs": [
    {
     "name": "stdout",
     "output_type": "stream",
     "text": [
      "foo\n"
     ]
    }
   ],
   "source": [
    "def foo():\n",
    "    return (foo := 'foo')\n",
    "\n",
    "print(foo())"
   ]
  },
  {
   "cell_type": "code",
   "execution_count": null,
   "id": "bc9f5ad0",
   "metadata": {},
   "outputs": [],
   "source": [
    "# this code will throw an error when executed\n",
    "def bar():\n",
    "    return (bar = 'bar')\n",
    "print(bar())"
   ]
  },
  {
   "cell_type": "markdown",
   "id": "aa9ee091",
   "metadata": {},
   "source": [
    "## List comperhension and generator expressions"
   ]
  },
  {
   "cell_type": "markdown",
   "id": "4b5aa1f3",
   "metadata": {},
   "source": [
    "List comperhensions, generator expressions and few others have a local scope to hold the variables assigned in the `for` clause"
   ]
  },
  {
   "cell_type": "code",
   "execution_count": 1,
   "id": "fe9f0b03",
   "metadata": {},
   "outputs": [
    {
     "name": "stdout",
     "output_type": "stream",
     "text": [
      "[2, 4, 6]\n"
     ]
    },
    {
     "ename": "NameError",
     "evalue": "name 'x' is not defined",
     "output_type": "error",
     "traceback": [
      "\u001b[0;31m---------------------------------------------------------------------------\u001b[0m",
      "\u001b[0;31mNameError\u001b[0m                                 Traceback (most recent call last)",
      "Input \u001b[0;32mIn [1]\u001b[0m, in \u001b[0;36m<cell line: 6>\u001b[0;34m()\u001b[0m\n\u001b[1;32m      3\u001b[0m \u001b[38;5;28mprint\u001b[39m(l2)\n\u001b[1;32m      5\u001b[0m \u001b[38;5;66;03m# below line will throw\u001b[39;00m\n\u001b[0;32m----> 6\u001b[0m \u001b[38;5;28mprint\u001b[39m(\u001b[43mx\u001b[49m)\n",
      "\u001b[0;31mNameError\u001b[0m: name 'x' is not defined"
     ]
    }
   ],
   "source": [
    "l = [1,2,3]\n",
    "l2 = [x*2 for x in l]\n",
    "print(l2)\n",
    "\n",
    "# below line will throw\n",
    "print(x)"
   ]
  },
  {
   "cell_type": "markdown",
   "id": "3d3204e5",
   "metadata": {},
   "source": [
    "Walrus is a way to navigate around it and store the most-recent value of `x`"
   ]
  },
  {
   "cell_type": "code",
   "execution_count": 11,
   "id": "c90d27ea",
   "metadata": {},
   "outputs": [
    {
     "name": "stdout",
     "output_type": "stream",
     "text": [
      "[2, 4, 6]\n",
      "6\n"
     ]
    }
   ],
   "source": [
    "l = [1,2,3]\n",
    "l2 = [last:=x*2 for x in l]\n",
    "print(l2)\n",
    "\n",
    "print(last)"
   ]
  },
  {
   "cell_type": "markdown",
   "id": "031e3f24",
   "metadata": {},
   "source": [
    "### Listcomp vs `map` and `filter`\n",
    "\n",
    "Listcomp can do everything what combination of `map` and `filter` can do, and it doesn't require usage of `lamda` functions. The performance of both solutions is comperable."
   ]
  },
  {
   "cell_type": "code",
   "execution_count": 5,
   "id": "28186777",
   "metadata": {},
   "outputs": [
    {
     "name": "stdout",
     "output_type": "stream",
     "text": [
      "[229, 730, 8776]\n"
     ]
    }
   ],
   "source": [
    "symbols = '$%^#å˚≈'\n",
    "beyond_ascii = [ord(s) for s in symbols if ord(s) > 127]\n",
    "print(beyond_ascii)"
   ]
  },
  {
   "cell_type": "code",
   "execution_count": 7,
   "id": "faf8f736",
   "metadata": {},
   "outputs": [
    {
     "name": "stdout",
     "output_type": "stream",
     "text": [
      "[229, 730, 8776]\n"
     ]
    }
   ],
   "source": [
    "beyond_ascii = list(filter(lambda c: c > 127, map(ord, symbols)))\n",
    "print(beyond_ascii)"
   ]
  },
  {
   "cell_type": "markdown",
   "id": "22f5b915",
   "metadata": {},
   "source": [
    "### Cartesian product using listcomp"
   ]
  },
  {
   "cell_type": "code",
   "execution_count": 13,
   "id": "5416f5c5",
   "metadata": {},
   "outputs": [
    {
     "name": "stdout",
     "output_type": "stream",
     "text": [
      "[('S', 'red'), ('S', 'green'), ('S', 'blue'), ('M', 'red'), ('M', 'green'), ('M', 'blue'), ('L', 'red'), ('L', 'green'), ('L', 'blue')]\n",
      "[('red', 'S'), ('red', 'M'), ('red', 'L'), ('green', 'S'), ('green', 'M'), ('green', 'L'), ('blue', 'S'), ('blue', 'M'), ('blue', 'L')]\n"
     ]
    }
   ],
   "source": [
    "sizes = ['S', 'M', 'L']\n",
    "colors = ['red', 'green', 'blue']\n",
    "\n",
    "by_size = [(size, color) for size in sizes for color in colors]\n",
    "print(by_size)\n",
    "\n",
    "by_color = [(color, size) for color in colors for size in sizes]\n",
    "print(by_color)"
   ]
  },
  {
   "cell_type": "markdown",
   "id": "10b1a58c",
   "metadata": {},
   "source": [
    "Listcomp can only create lists, use generator expressions (genexp) to create other data structures."
   ]
  },
  {
   "cell_type": "markdown",
   "id": "6db24cb9",
   "metadata": {},
   "source": [
    "### Genexp\n",
    "\n",
    "`genexp` saves memory because it generates values when they are needed, `listcomp` generates all values when called"
   ]
  },
  {
   "cell_type": "code",
   "execution_count": 1,
   "id": "d1c0a913",
   "metadata": {},
   "outputs": [
    {
     "name": "stdout",
     "output_type": "stream",
     "text": [
      "<generator object <genexpr> at 0x12117b840>\n",
      "black S\n",
      "black M\n",
      "black L\n",
      "yellow S\n",
      "yellow M\n",
      "yellow L\n",
      "red S\n",
      "red M\n",
      "red L\n"
     ]
    }
   ],
   "source": [
    "colors = ['black', 'yellow', 'red']\n",
    "sizes = ['S', 'M', 'L']\n",
    "\n",
    "tshirts_gen = (f'{c} {s}' for c in colors for s in sizes)\n",
    "print(tshirts_gen)\n",
    "\n",
    "for tshirt in tshirts_gen:\n",
    "    print(tshirt)"
   ]
  },
  {
   "cell_type": "markdown",
   "id": "0d360ee5",
   "metadata": {},
   "source": [
    "## Tuples\n",
    "\n",
    "Tuples can be used as immutable lists or data records without field names.\n",
    "\n",
    "When defining a tuple with only one element, the trailing coma has to be added."
   ]
  },
  {
   "cell_type": "code",
   "execution_count": 19,
   "id": "9cc78592",
   "metadata": {},
   "outputs": [
    {
     "name": "stdout",
     "output_type": "stream",
     "text": [
      "(1,)\n",
      "1\n"
     ]
    }
   ],
   "source": [
    "one_el = (1, )\n",
    "one_el_bug = (1)\n",
    "\n",
    "print(one_el)\n",
    "print(one_el_bug)"
   ]
  },
  {
   "cell_type": "markdown",
   "id": "4b606761",
   "metadata": {},
   "source": [
    "### Tuples unpacking\n",
    "\n",
    "When unpacking a tuple using `%` sign, all arguments have to be converted"
   ]
  },
  {
   "cell_type": "code",
   "execution_count": 3,
   "id": "335859f7",
   "metadata": {},
   "outputs": [
    {
     "name": "stdout",
     "output_type": "stream",
     "text": [
      "BRA/111\n",
      "FRA/222\n",
      "POL/333\n"
     ]
    }
   ],
   "source": [
    "passports = [('BRA', 111), ('FRA', 222), ('POL', 333)]\n",
    "for passport in passports:\n",
    "    print('%s/%s' % passport)"
   ]
  },
  {
   "cell_type": "markdown",
   "id": "434f5c21",
   "metadata": {},
   "source": [
    "### Immutability\n",
    "\n",
    "When sorting a tuple, the output is a list."
   ]
  },
  {
   "cell_type": "code",
   "execution_count": 5,
   "id": "68ff7566",
   "metadata": {},
   "outputs": [
    {
     "name": "stdout",
     "output_type": "stream",
     "text": [
      "['BRA', 'FRA', 'POL']\n",
      "('POL', 'BRA', 'FRA')\n"
     ]
    }
   ],
   "source": [
    "t = ('POL', 'BRA', 'FRA')\n",
    "print(sorted(t))\n",
    "print(t)"
   ]
  },
  {
   "cell_type": "markdown",
   "id": "977336bc",
   "metadata": {},
   "source": [
    "Tuples store the length and the reference to values. If one of the references points to mutable object, the tuple may change."
   ]
  },
  {
   "cell_type": "code",
   "execution_count": 13,
   "id": "3ba6eb02",
   "metadata": {},
   "outputs": [
    {
     "name": "stdout",
     "output_type": "stream",
     "text": [
      "True\n",
      "True\n",
      "True\n",
      "True\n"
     ]
    }
   ],
   "source": [
    "# replace _item_ with [1, 2] in tuple and lists definition to see the difference\n",
    "item = [1, 2]\n",
    "\n",
    "tuple_a = ('a', 'b', item)\n",
    "tuple_b = ('a', 'b', item)\n",
    "\n",
    "print(tuple_a == tuple_b)\n",
    "\n",
    "list_a = ['a', 'b', item]\n",
    "list_b = ['a', 'b', item]\n",
    "\n",
    "print(list_a == list_b)\n",
    "\n",
    "tuple_a[-1].append(99)\n",
    "list_a[-1].append(99)\n",
    "\n",
    "print(tuple_a == tuple_b)\n",
    "print(list_a == list_b)\n"
   ]
  },
  {
   "cell_type": "markdown",
   "id": "0d320cc3",
   "metadata": {},
   "source": [
    "> Object is only hashable if it's value cannot ever by changed!"
   ]
  },
  {
   "cell_type": "markdown",
   "id": "63da535e",
   "metadata": {},
   "source": [
    "## Unpacking sequences\n",
    "\n",
    "### `*` operator\n",
    "\n",
    "When upacking the `*` can be used only to one element, but on any position.\n",
    "\n",
    "When calling a function, the `*` can be used multiple times"
   ]
  },
  {
   "cell_type": "code",
   "execution_count": 16,
   "id": "47855e1b",
   "metadata": {},
   "outputs": [
    {
     "name": "stdout",
     "output_type": "stream",
     "text": [
      "0 [1, 2, 3, 4, 5, 6, 7, 8] 9\n",
      "(1, 2, 3, 4, 5, 6)\n",
      "1 2 3 4 5 6\n"
     ]
    }
   ],
   "source": [
    "a, *b, c = range(10)\n",
    "print(a, b, c)\n",
    "\n",
    "def fun(*rest):\n",
    "    print(rest)\n",
    "    print(*rest)\n",
    "    \n",
    "fun(*[1, 2 , 3], 4, *(5, 6))"
   ]
  },
  {
   "cell_type": "markdown",
   "id": "d6008709-5d56-49f6-a49f-5cb7687fa83e",
   "metadata": {},
   "source": [
    "### Match/Case"
   ]
  },
  {
   "cell_type": "code",
   "execution_count": 9,
   "id": "2eb10d46",
   "metadata": {},
   "outputs": [
    {
     "name": "stdout",
     "output_type": "stream",
     "text": [
      "Welcome to Poznan!\n",
      "----\n",
      "Welcome to Poznan!\n",
      "----\n",
      "Welcome to Poznan!\n",
      "[123, 456, (123, 456)]\n",
      "----\n",
      "Welcome to Poznan!\n",
      "(123, 456)\n"
     ]
    }
   ],
   "source": [
    "city_info = ['POZ', 123, 456, (123, 456)]\n",
    "city_info_with_list = ['POZ', 123, 456, [123, 456]]\n",
    "\n",
    "match city_info:\n",
    "\tcase ['POZ', _, _, (lat, lon)]:\n",
    "\t\tprint('Welcome to Poznan!')\n",
    "\n",
    "\n",
    "print('----')\n",
    "\n",
    "match city_info_with_list:\n",
    "\tcase ['POZ', _, _, (lat, lon)]:\n",
    "\t\tprint('Welcome to Poznan!')\n",
    "\n",
    "print('----')\n",
    "\n",
    "match city_info:\n",
    "    case ['POZ', *rest]:\n",
    "        print('Welcome to Poznan!')\n",
    "        print(rest)\n",
    "\n",
    "print('----')\n",
    "\n",
    "match city_info:\n",
    "    case [str(city_name), *_, (lat, lon) as coords]:\n",
    "        print('Welcome to Poznan!')\n",
    "        print(coords)"
   ]
  },
  {
   "cell_type": "markdown",
   "id": "0cb625e5",
   "metadata": {},
   "source": [
    "## Slice notation"
   ]
  },
  {
   "cell_type": "markdown",
   "id": "6a64d364",
   "metadata": {},
   "source": [
    "### In place modification"
   ]
  },
  {
   "cell_type": "code",
   "execution_count": 14,
   "id": "3c58c577",
   "metadata": {},
   "outputs": [
    {
     "name": "stdout",
     "output_type": "stream",
     "text": [
      "['h', 'e', 'l', 'l', 'o', ' ', 'b', 'o', 'g', 'n', 'a', ',', ' ', 'h', 'o', 'w', ' ', 'a', 'r', 'e', ' ', 'y', 'o', 'u', '?']\n",
      "['x', 'e', 'x', 'l', 'x', ' ', 'x', 'o', 'x', 'n', 'x', ',', 'x', 'h', 'x', 'w', 'x', 'a', 'x', 'e', 'x', 'y', 'x', 'u', 'x']\n"
     ]
    }
   ],
   "source": [
    "text = [char for char in 'hello bogna, how are you?']\n",
    "print(text)\n",
    "\n",
    "# line below doesn't work because the slice assignment is less flexible.\n",
    "# The replacement must contain the same amount of items\n",
    "# as the items that are being replaced\n",
    "# text[::2] = 'x'\n",
    "\n",
    "text[::2] = ['x'] * 13\n",
    "print(text)"
   ]
  },
  {
   "cell_type": "code",
   "execution_count": null,
   "id": "c6a41201",
   "metadata": {},
   "outputs": [],
   "source": []
  },
  {
   "cell_type": "code",
   "execution_count": null,
   "id": "1d4de768",
   "metadata": {},
   "outputs": [],
   "source": []
  },
  {
   "cell_type": "code",
   "execution_count": null,
   "id": "db9a4e00",
   "metadata": {},
   "outputs": [],
   "source": []
  },
  {
   "cell_type": "code",
   "execution_count": null,
   "id": "8fb54c06",
   "metadata": {},
   "outputs": [],
   "source": []
  },
  {
   "cell_type": "code",
   "execution_count": null,
   "id": "e33be09c",
   "metadata": {},
   "outputs": [],
   "source": []
  },
  {
   "cell_type": "code",
   "execution_count": null,
   "id": "49e280ab",
   "metadata": {},
   "outputs": [],
   "source": []
  },
  {
   "cell_type": "code",
   "execution_count": null,
   "id": "101393d3",
   "metadata": {},
   "outputs": [],
   "source": []
  },
  {
   "cell_type": "code",
   "execution_count": null,
   "id": "6001522d",
   "metadata": {},
   "outputs": [],
   "source": []
  },
  {
   "cell_type": "code",
   "execution_count": null,
   "id": "7e6512d1",
   "metadata": {},
   "outputs": [],
   "source": []
  },
  {
   "cell_type": "code",
   "execution_count": null,
   "id": "b1ce809f",
   "metadata": {},
   "outputs": [],
   "source": []
  },
  {
   "cell_type": "code",
   "execution_count": null,
   "id": "1e563cea",
   "metadata": {},
   "outputs": [],
   "source": []
  },
  {
   "cell_type": "code",
   "execution_count": null,
   "id": "4a3a4f4a",
   "metadata": {},
   "outputs": [],
   "source": []
  },
  {
   "cell_type": "code",
   "execution_count": null,
   "id": "6088f6b7-3748-470e-a421-f0967e12223a",
   "metadata": {},
   "outputs": [],
   "source": []
  },
  {
   "cell_type": "code",
   "execution_count": null,
   "id": "8bc26b0c-3dc4-46a9-870e-e9ccefdceb5d",
   "metadata": {},
   "outputs": [],
   "source": []
  },
  {
   "cell_type": "code",
   "execution_count": null,
   "id": "5f8e222d-1f53-4ed0-ac1e-24130bb13f0d",
   "metadata": {},
   "outputs": [],
   "source": []
  }
 ],
 "metadata": {
  "kernelspec": {
   "display_name": "Python 3 (ipykernel)",
   "language": "python",
   "name": "python3"
  },
  "language_info": {
   "codemirror_mode": {
    "name": "ipython",
    "version": 3
   },
   "file_extension": ".py",
   "mimetype": "text/x-python",
   "name": "python",
   "nbconvert_exporter": "python",
   "pygments_lexer": "ipython3",
   "version": "3.11.0"
  }
 },
 "nbformat": 4,
 "nbformat_minor": 5
}
