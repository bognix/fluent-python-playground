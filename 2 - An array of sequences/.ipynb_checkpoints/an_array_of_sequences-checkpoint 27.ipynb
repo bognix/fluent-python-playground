{
 "cells": [
  {
   "cell_type": "markdown",
   "id": "a2d6edda",
   "metadata": {},
   "source": [
    "## Walrus Operator"
   ]
  },
  {
   "cell_type": "code",
   "execution_count": 6,
   "id": "e9a73b6f",
   "metadata": {},
   "outputs": [
    {
     "name": "stdout",
     "output_type": "stream",
     "text": [
      "foo\n"
     ]
    }
   ],
   "source": [
    "def foo():\n",
    "    return (foo := 'foo')\n",
    "\n",
    "print(foo())"
   ]
  },
  {
   "cell_type": "code",
   "execution_count": null,
   "id": "21a85bb9",
   "metadata": {},
   "outputs": [],
   "source": [
    "# this code will throw an error when executed\n",
    "def bar():\n",
    "    return (bar = 'bar')\n",
    "print(bar())"
   ]
  },
  {
   "cell_type": "markdown",
   "id": "af04ec6d",
   "metadata": {},
   "source": [
    "## List comperhension and generator expressions"
   ]
  },
  {
   "cell_type": "markdown",
   "id": "2b23ecd6",
   "metadata": {},
   "source": [
    "List comperhensions, generator expressions and few others have a local scope to hold the variables assigned in the `for` clause"
   ]
  },
  {
   "cell_type": "code",
   "execution_count": 1,
   "id": "0763aad1",
   "metadata": {},
   "outputs": [
    {
     "name": "stdout",
     "output_type": "stream",
     "text": [
      "[2, 4, 6]\n"
     ]
    },
    {
     "ename": "NameError",
     "evalue": "name 'x' is not defined",
     "output_type": "error",
     "traceback": [
      "\u001b[0;31m---------------------------------------------------------------------------\u001b[0m",
      "\u001b[0;31mNameError\u001b[0m                                 Traceback (most recent call last)",
      "Input \u001b[0;32mIn [1]\u001b[0m, in \u001b[0;36m<cell line: 6>\u001b[0;34m()\u001b[0m\n\u001b[1;32m      3\u001b[0m \u001b[38;5;28mprint\u001b[39m(l2)\n\u001b[1;32m      5\u001b[0m \u001b[38;5;66;03m# below line will throw\u001b[39;00m\n\u001b[0;32m----> 6\u001b[0m \u001b[38;5;28mprint\u001b[39m(\u001b[43mx\u001b[49m)\n",
      "\u001b[0;31mNameError\u001b[0m: name 'x' is not defined"
     ]
    }
   ],
   "source": [
    "l = [1,2,3]\n",
    "l2 = [x*2 for x in l]\n",
    "print(l2)\n",
    "\n",
    "# below line will throw\n",
    "print(x)"
   ]
  },
  {
   "cell_type": "markdown",
   "id": "d3430dcc",
   "metadata": {},
   "source": [
    "Warlus is a way to navigate around it and store the most-recent value of `x`"
   ]
  },
  {
   "cell_type": "code",
   "execution_count": 11,
   "id": "eb2f6433",
   "metadata": {},
   "outputs": [
    {
     "name": "stdout",
     "output_type": "stream",
     "text": [
      "[2, 4, 6]\n",
      "6\n"
     ]
    }
   ],
   "source": [
    "l = [1,2,3]\n",
    "l2 = [last:=x*2 for x in l]\n",
    "print(l2)\n",
    "\n",
    "print(last)"
   ]
  },
  {
   "cell_type": "markdown",
   "id": "faabb186",
   "metadata": {},
   "source": [
    "### Listcomp vs `map` and `filter`\n",
    "\n",
    "Listcomp can do everything what combination of `map` and `filter` can do, and it doesn't require usage of `lamda` functions. The performance of both solutions is comperable."
   ]
  },
  {
   "cell_type": "code",
   "execution_count": 5,
   "id": "6a6c6ea1",
   "metadata": {},
   "outputs": [
    {
     "name": "stdout",
     "output_type": "stream",
     "text": [
      "[229, 730, 8776]\n"
     ]
    }
   ],
   "source": [
    "symbols = '$%^#å˚≈'\n",
    "beyond_ascii = [ord(s) for s in symbols if ord(s) > 127]\n",
    "print(beyond_ascii)"
   ]
  },
  {
   "cell_type": "code",
   "execution_count": 7,
   "id": "c73cd1bc",
   "metadata": {},
   "outputs": [
    {
     "name": "stdout",
     "output_type": "stream",
     "text": [
      "[229, 730, 8776]\n"
     ]
    }
   ],
   "source": [
    "beyond_ascii = list(filter(lambda c: c > 127, map(ord, symbols)))\n",
    "print(beyond_ascii)"
   ]
  },
  {
   "cell_type": "markdown",
   "id": "17402cd4",
   "metadata": {},
   "source": [
    "### Cartesian product using listcomp"
   ]
  },
  {
   "cell_type": "code",
   "execution_count": 13,
   "id": "1f462f9e",
   "metadata": {},
   "outputs": [
    {
     "name": "stdout",
     "output_type": "stream",
     "text": [
      "[('S', 'red'), ('S', 'green'), ('S', 'blue'), ('M', 'red'), ('M', 'green'), ('M', 'blue'), ('L', 'red'), ('L', 'green'), ('L', 'blue')]\n",
      "[('red', 'S'), ('red', 'M'), ('red', 'L'), ('green', 'S'), ('green', 'M'), ('green', 'L'), ('blue', 'S'), ('blue', 'M'), ('blue', 'L')]\n"
     ]
    }
   ],
   "source": [
    "sizes = ['S', 'M', 'L']\n",
    "colors = ['red', 'green', 'blue']\n",
    "\n",
    "by_size = [(size, color) for size in sizes for color in colors]\n",
    "print(by_size)\n",
    "\n",
    "by_color = [(color, size) for color in colors for size in sizes]\n",
    "print(by_color)"
   ]
  },
  {
   "cell_type": "markdown",
   "id": "5d72f782",
   "metadata": {},
   "source": [
    "Listcomp can only create lists, use generator expressions (genexp) to create other data structures."
   ]
  },
  {
   "cell_type": "markdown",
   "id": "6fbb80e1",
   "metadata": {},
   "source": [
    "### Genexp\n",
    "\n",
    "`genexp` saves memory because it generates values when they are needed, `listcomp` generates all values when called"
   ]
  },
  {
   "cell_type": "code",
   "execution_count": null,
   "id": "06f6e3c0",
   "metadata": {},
   "outputs": [],
   "source": [
    "colors = ['black', 'yellow', 'red']\n",
    "sizes = ['S', 'M', 'L']\n",
    "\n",
    "tshirts_gen = (f'{c} {s}' for c in colors for s in sizes)"
   ]
  }
 ],
 "metadata": {
  "kernelspec": {
   "display_name": "Python 3 (ipykernel)",
   "language": "python",
   "name": "python3"
  },
  "language_info": {
   "codemirror_mode": {
    "name": "ipython",
    "version": 3
   },
   "file_extension": ".py",
   "mimetype": "text/x-python",
   "name": "python",
   "nbconvert_exporter": "python",
   "pygments_lexer": "ipython3",
   "version": "3.9.10+"
  }
 },
 "nbformat": 4,
 "nbformat_minor": 5
}
