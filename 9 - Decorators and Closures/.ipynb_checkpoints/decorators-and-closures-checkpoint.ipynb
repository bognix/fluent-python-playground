{
 "cells": [
  {
   "cell_type": "markdown",
   "id": "28f3282a-de5b-4d45-9b92-095cb659abbb",
   "metadata": {},
   "source": [
    "## Basic Decorators"
   ]
  },
  {
   "cell_type": "code",
   "execution_count": 5,
   "id": "43bcb90e-4d4b-4c76-921d-6c04408a7199",
   "metadata": {},
   "outputs": [
    {
     "name": "stdout",
     "output_type": "stream",
     "text": [
      "executing decorator\n",
      "executing decorated function\n"
     ]
    }
   ],
   "source": [
    "def decorator(func):\n",
    "    print('executing decorator')\n",
    "    return func\n",
    "\n",
    "@decorator\n",
    "def decorated():\n",
    "    print('executing decorated function')\n",
    "\n",
    "decorated()"
   ]
  },
  {
   "cell_type": "markdown",
   "id": "05d90129-15bb-4ca7-8ee4-ea38948e5aef",
   "metadata": {},
   "source": [
    "### Decorators as syntatic sugar"
   ]
  },
  {
   "cell_type": "code",
   "execution_count": 4,
   "id": "66dc9118-0f26-45aa-83c0-45b1910f7863",
   "metadata": {},
   "outputs": [
    {
     "name": "stdout",
     "output_type": "stream",
     "text": [
      "executing decorator\n",
      "executing decorated function\n"
     ]
    }
   ],
   "source": [
    "def decorator_func(func):\n",
    "    print('executing decorator')\n",
    "    return func\n",
    "\n",
    "decorator_func(decorated)()"
   ]
  },
  {
   "cell_type": "markdown",
   "id": "4b7e8459-1145-4694-af58-596ca270b80f",
   "metadata": {},
   "source": [
    "### Immediate execution"
   ]
  },
  {
   "cell_type": "code",
   "execution_count": 22,
   "id": "08e47af4-d094-4f10-bed8-a2931cd4e245",
   "metadata": {},
   "outputs": [
    {
     "name": "stdout",
     "output_type": "stream",
     "text": [
      "executing decorator\n"
     ]
    }
   ],
   "source": [
    "def decorator(func):\n",
    "    print('executing decorator')\n",
    "    return func\n",
    "\n",
    "@decorator\n",
    "def decorated():\n",
    "    print('executing decorated function')"
   ]
  },
  {
   "cell_type": "markdown",
   "id": "75a4cd78-58af-4d3a-8fad-8b1aa347bfa9",
   "metadata": {},
   "source": [
    "`clocked` is a new method returned by the `clock` decorator."
   ]
  },
  {
   "cell_type": "code",
   "execution_count": null,
   "id": "69945792-2d1b-4bb2-9c72-394137527c63",
   "metadata": {},
   "outputs": [],
   "source": [
    "import time\n",
    "\n",
    "def clock(func):\n",
    "    def clocked(*args):\n",
    "        t0 = time.perf_counter()\n",
    "        result = func(*args)\n",
    "        elapsed = time.perf_counter() - t0\n",
    "        name = func.__name__\n",
    "        arg_str = ', '.join(repr(arg) for arg in args)\n",
    "        print(f'[{elapsed:0.8f}s] {name}({arg_str}) -> {result!r}')\n",
    "        \n",
    "        return result\n",
    "    return clocked\n",
    "\n",
    "@clock\n",
    "def factorial(n):\n",
    "    return 1 if n < 2 else n * factorial(n-1)\n",
    "\n",
    "@clock\n",
    "def snooze(seconds):\n",
    "    time.sleep(seconds)\n",
    "    \n",
    "\n",
    "factorial(6)\n",
    "        \n",
    "\n"
   ]
  },
  {
   "cell_type": "markdown",
   "id": "7b81a16f-5941-4d55-9fe3-89d3c7953a68",
   "metadata": {},
   "source": [
    "### memoization"
   ]
  },
  {
   "cell_type": "code",
   "execution_count": 43,
   "id": "dd5d86bc-20ee-4afb-8b8a-28884b680751",
   "metadata": {},
   "outputs": [
    {
     "name": "stdout",
     "output_type": "stream",
     "text": [
      "[0.00000117s] fibonacci(1) -> 1\n",
      "[0.00000129s] fibonacci(0) -> 0\n",
      "[0.00034479s] fibonacci(2) -> 1\n",
      "[0.00000096s] fibonacci(1) -> 1\n",
      "[0.00037708s] fibonacci(3) -> 2\n",
      "[0.00000083s] fibonacci(1) -> 1\n",
      "[0.00000079s] fibonacci(0) -> 0\n",
      "[0.00003037s] fibonacci(2) -> 1\n",
      "[0.00043625s] fibonacci(4) -> 3\n",
      "[0.00000075s] fibonacci(1) -> 1\n",
      "[0.00000075s] fibonacci(0) -> 0\n",
      "[0.00002921s] fibonacci(2) -> 1\n",
      "[0.00000083s] fibonacci(1) -> 1\n",
      "[0.00005804s] fibonacci(3) -> 2\n",
      "[0.00052329s] fibonacci(5) -> 5\n",
      "[0.00000067s] fibonacci(1) -> 1\n",
      "[0.00000075s] fibonacci(0) -> 0\n",
      "[0.00002942s] fibonacci(2) -> 1\n",
      "[0.00000079s] fibonacci(1) -> 1\n",
      "[0.00005750s] fibonacci(3) -> 2\n",
      "[0.00000067s] fibonacci(1) -> 1\n",
      "[0.00000075s] fibonacci(0) -> 0\n",
      "[0.00002879s] fibonacci(2) -> 1\n",
      "[0.00011354s] fibonacci(4) -> 3\n",
      "[0.00066617s] fibonacci(6) -> 8\n"
     ]
    },
    {
     "data": {
      "text/plain": [
       "8"
      ]
     },
     "execution_count": 43,
     "metadata": {},
     "output_type": "execute_result"
    }
   ],
   "source": [
    "@clock\n",
    "def fibonacci(n):\n",
    "    if n < 2:\n",
    "        return n\n",
    "    \n",
    "    return fibonacci(n-1) + fibonacci(n-2)\n",
    "\n",
    "\n",
    "fibonacci(6)"
   ]
  },
  {
   "cell_type": "code",
   "execution_count": 64,
   "id": "52df98a3-99ad-4818-89c5-722c9518ae1b",
   "metadata": {},
   "outputs": [
    {
     "name": "stdout",
     "output_type": "stream",
     "text": [
      "[0.00000133s] fibonacci_cache(1) -> 1\n",
      "[0.00000212s] fibonacci_cache(0) -> 0\n",
      "[0.00034800s] fibonacci_cache(2) -> 1\n",
      "[0.00000075s] fibonacci_cache(1) -> 1\n",
      "[0.00037829s] fibonacci_cache(3) -> 2\n",
      "[0.00000067s] fibonacci_cache(2) -> 1\n",
      "[0.00040575s] fibonacci_cache(4) -> 3\n",
      "[0.00000067s] fibonacci_cache(3) -> 2\n",
      "[0.00043346s] fibonacci_cache(5) -> 5\n",
      "[0.00000063s] fibonacci_cache(4) -> 3\n",
      "[0.00046167s] fibonacci_cache(6) -> 8\n"
     ]
    },
    {
     "data": {
      "text/plain": [
       "8"
      ]
     },
     "execution_count": 64,
     "metadata": {},
     "output_type": "execute_result"
    }
   ],
   "source": [
    "from functools import cache\n",
    "\n",
    "\n",
    "@clock\n",
    "@cache\n",
    "def fibonacci_cache(n):\n",
    "    if n < 2:\n",
    "        return n\n",
    "    \n",
    "    return fibonacci_cache(n-1) + fibonacci_cache(n-2)\n",
    "\n",
    "fibonacci_cache(6)\n",
    "\n"
   ]
  },
  {
   "cell_type": "code",
   "execution_count": null,
   "id": "6f5b5b31-7f35-4cb6-b5a8-525ee68f988f",
   "metadata": {},
   "outputs": [],
   "source": [
    "from functools import cache\n",
    "\n",
    "\n",
    "@clock\n",
    "@cache\n",
    "def fibonacci_cache_inverted(n):\n",
    "    if n < 2:\n",
    "        return n\n",
    "    \n",
    "    return fibonacci_cache_inverted(n-1) + fibonacci_cache(n-2)\n",
    "\n",
    "fibonacci_cache(6)\n",
    "\n"
   ]
  },
  {
   "cell_type": "markdown",
   "id": "ab943cae-8988-490d-8024-ef0c14c051f0",
   "metadata": {},
   "source": [
    "## Variables scope"
   ]
  },
  {
   "cell_type": "code",
   "execution_count": 13,
   "id": "60f20b53-dfa4-4112-a9d9-60280a82fe36",
   "metadata": {},
   "outputs": [
    {
     "name": "stdout",
     "output_type": "stream",
     "text": [
      "4\n",
      "3\n",
      "6\n"
     ]
    }
   ],
   "source": [
    "b = 3\n",
    "\n",
    "def x():\n",
    "    global b\n",
    "    a = 4\n",
    "    print(a)\n",
    "    print(b)\n",
    "    b = 6\n",
    "\n",
    "x()\n",
    "print(b)"
   ]
  },
  {
   "cell_type": "markdown",
   "id": "9db20045-9d6c-4dd9-bded-7ac0e0fbb158",
   "metadata": {},
   "source": [
    "b = 3\n",
    "\n",
    "def x():\n",
    "    a = 4\n",
    "    print(a)\n",
    "    print(b)\n",
    "\n",
    "x()\n",
    "print(b)"
   ]
  },
  {
   "cell_type": "markdown",
   "id": "4f35fbe2-3358-4023-a028-b5052b09fbbd",
   "metadata": {},
   "source": [
    "## Closures"
   ]
  },
  {
   "cell_type": "code",
   "execution_count": 17,
   "id": "99bef1ac-0b55-4659-8e8e-17e6f459cc92",
   "metadata": {},
   "outputs": [
    {
     "name": "stdout",
     "output_type": "stream",
     "text": [
      "12\n"
     ]
    }
   ],
   "source": [
    "def outer():\n",
    "\tx = 3\n",
    "\tdef inner():\n",
    "\t\ty = 4\n",
    "\t\treturn x * y\n",
    "\treturn inner()\n",
    "\n",
    "print(outer())"
   ]
  },
  {
   "cell_type": "markdown",
   "id": "dc6f1131-2b5f-40a2-ace0-88dbe0a792b3",
   "metadata": {},
   "source": [
    "### nonlocal variables"
   ]
  },
  {
   "cell_type": "code",
   "execution_count": 20,
   "id": "93a3cb49-112c-4c5a-88f3-aa14c43262e0",
   "metadata": {},
   "outputs": [
    {
     "name": "stdout",
     "output_type": "stream",
     "text": [
      "3.0\n",
      "4.0\n"
     ]
    }
   ],
   "source": [
    "def make_avg():\n",
    "\tcount = 0\n",
    "\ttotal = 0\n",
    "\n",
    "\tdef avg(value):\n",
    "\t\tnonlocal total\n",
    "\t\tnonlocal count\n",
    "\t\ttotal += value\n",
    "\t\tcount += 1\n",
    "\t\treturn total / count\n",
    "\t\n",
    "\treturn avg\n",
    "\n",
    "avg = make_avg()\n",
    "\n",
    "print(avg(3))\n",
    "print(avg(5))"
   ]
  },
  {
   "cell_type": "markdown",
   "id": "10ba1fb7-312a-4807-bdde-4d198c52dba7",
   "metadata": {},
   "source": [
    "### variable lookup logic"
   ]
  },
  {
   "cell_type": "code",
   "execution_count": 21,
   "id": "16f52360-4c60-4c29-a00f-e025a8ff06b8",
   "metadata": {},
   "outputs": [
    {
     "name": "stdout",
     "output_type": "stream",
     "text": [
      "5\n"
     ]
    }
   ],
   "source": [
    "def glob():\n",
    "    x = 4\n",
    "\n",
    "    def outer():\n",
    "        x = 5\n",
    "    \n",
    "        def inner():\n",
    "            print(x)\n",
    "        \n",
    "        return inner()\n",
    "    return outer()\n",
    "\n",
    "glob()\n"
   ]
  }
 ],
 "metadata": {
  "kernelspec": {
   "display_name": "Python 3 (ipykernel)",
   "language": "python",
   "name": "python3"
  },
  "language_info": {
   "codemirror_mode": {
    "name": "ipython",
    "version": 3
   },
   "file_extension": ".py",
   "mimetype": "text/x-python",
   "name": "python",
   "nbconvert_exporter": "python",
   "pygments_lexer": "ipython3",
   "version": "3.10.5"
  }
 },
 "nbformat": 4,
 "nbformat_minor": 5
}
