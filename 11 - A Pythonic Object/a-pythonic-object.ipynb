{
 "cells": [
  {
   "cell_type": "code",
   "execution_count": 86,
   "id": "72becf46-1360-466a-ad0f-cc87402a454d",
   "metadata": {},
   "outputs": [
    {
     "name": "stdout",
     "output_type": "stream",
     "text": [
      "dict does not exist on Vector2d instance because of __slots__\n",
      "-8458139203682520985\n",
      "it's a zero!\n"
     ]
    }
   ],
   "source": [
    "from array import array\n",
    "import math\n",
    "\n",
    "class Vector2d:\n",
    "    typecode = 'd'\n",
    "    \n",
    "    __match_args__ = ('x', 'y')\n",
    "    \n",
    "    __slots__ = ('__x', '__y')\n",
    "    \n",
    "    def __init__(self, x, y):\n",
    "        self.__x = float(x)\n",
    "        self.__y = float(y)\n",
    "    \n",
    "    @property\n",
    "    def x(self):\n",
    "        return self.__x\n",
    "    \n",
    "    @property\n",
    "    def y(self):\n",
    "        return self.__y\n",
    "\n",
    "    def __iter__(self):\n",
    "        return (i for i in (self.x, self.y))\n",
    "    \n",
    "    def __repr__(self):\n",
    "        class_name = type(self).__name__\n",
    "        \n",
    "        return '{}({!r}, {!r})'.format(class_name, *self)\n",
    "    \n",
    "    def __str__(self):\n",
    "        print('str called')\n",
    "        return str(tuple(self))\n",
    "    \n",
    "    def __bytes__(self):\n",
    "        return (bytes([ord(self.typecode)]) + (bytes(array(self.typecode, self))))\n",
    "    \n",
    "    def __eq__(self, other):\n",
    "        return tuple(self) == tuple(other)\n",
    "    \n",
    "    def __abs__(self):\n",
    "        return math.hypot(self.x, self.y)\n",
    "    \n",
    "    def __bool__(self):\n",
    "        return bool(abs(self))\n",
    "    \n",
    "    def __format__(self, fmt_spec=''):\n",
    "        if fmt_spec.endswith('p'):\n",
    "            fmt_spec = fmt_spec[:-1]\n",
    "            coords = (abs(self), self.angle())\n",
    "            outer_fmt = '<{}, {}>'\n",
    "        else:\n",
    "            coords = self\n",
    "            outer_fmt = '({}, {})'\n",
    "            \n",
    "        components = (format(c, fmt_spec) for c in coords)\n",
    "        \n",
    "        return outer_fmt.format(*components)\n",
    "    \n",
    "    def __hash__(self):\n",
    "        return hash((self.x, self.y))\n",
    "                \n",
    "    @classmethod\n",
    "    def from_bytes(cls, octets):\n",
    "        cls.typecode = chr(octets[0])\n",
    "        \n",
    "        memv = memoryview(octets[1:]).cast(cls.typecode)\n",
    "        \n",
    "        return cls(*memv)\n",
    "    \n",
    "    def angle(self):\n",
    "        return math.atan2(self.y, self.x)\n",
    "    \n",
    "\n",
    "v1 = Vector2d(0, 0)\n",
    "v2 = eval(repr(v1))\n",
    "v3 = Vector2d.from_bytes(bytes(v2))\n",
    "\n",
    "format(v3, '0.3fp')\n",
    "\n",
    "try:\n",
    "    print(v3.__dict__)\n",
    "except AttributeError:\n",
    "    print('dict does not exist on Vector2d instance because of __slots__')\n",
    "print(hash(v3))\n",
    "\n",
    "\n",
    "def match_vector(vector: Vector2d):\n",
    "    match vector:\n",
    "        case Vector2d(0, 0):\n",
    "            print('it\\'s a zero!')\n",
    "        case Vector2d(_, _):\n",
    "            print('it\\'s something else')\n",
    "\n",
    "match_vector(v1)\n",
    "\n"
   ]
  },
  {
   "cell_type": "markdown",
   "id": "2625697d-09cc-4253-b4f8-7bea89f39168",
   "metadata": {},
   "source": [
    "## __slots__"
   ]
  },
  {
   "cell_type": "code",
   "execution_count": 78,
   "id": "119174b7-34f1-4b86-94b7-1a4b79a2b6e5",
   "metadata": {},
   "outputs": [
    {
     "name": "stdout",
     "output_type": "stream",
     "text": [
      "<member 'x' of 'Pixel' objects>\n",
      "7\n",
      "{'__module__': '__main__', '__slots__': ('x',), 'x': <member 'x' of 'Pixel' objects>, '__doc__': None}\n",
      "dict does not exist on Pixel instance\n"
     ]
    }
   ],
   "source": [
    "class Pixel:\n",
    "    __slots__ = ('x', )\n",
    "\n",
    "p = Pixel()\n",
    "p.x = 7\n",
    "\n",
    "print(Pixel.x)\n",
    "print(p.x)\n",
    "print(Pixel.__dict__)\n",
    "\n",
    "try:\n",
    "    print(p.__dict__)\n",
    "except AttributeError:\n",
    "    print('dict does not exist on Pixel instance')"
   ]
  }
 ],
 "metadata": {
  "kernelspec": {
   "display_name": "Python 3 (ipykernel)",
   "language": "python",
   "name": "python3"
  },
  "language_info": {
   "codemirror_mode": {
    "name": "ipython",
    "version": 3
   },
   "file_extension": ".py",
   "mimetype": "text/x-python",
   "name": "python",
   "nbconvert_exporter": "python",
   "pygments_lexer": "ipython3",
   "version": "3.10.5"
  }
 },
 "nbformat": 4,
 "nbformat_minor": 5
}
