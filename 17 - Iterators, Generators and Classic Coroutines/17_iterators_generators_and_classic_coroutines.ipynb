{
 "cells": [
  {
   "cell_type": "markdown",
   "id": "94e1b39b-2b9f-441a-a5e8-365c075f3b65",
   "metadata": {},
   "source": [
    "# Iterators, Generators and Classic Coroutines"
   ]
  },
  {
   "cell_type": "markdown",
   "id": "b66fa40f-9729-48e7-8bfe-30dc7730ec8b",
   "metadata": {},
   "source": [
    "## Generators"
   ]
  },
  {
   "cell_type": "code",
   "execution_count": 1,
   "id": "28d6e3bf-3a9a-4100-a02c-bf336c11c94f",
   "metadata": {},
   "outputs": [],
   "source": [
    "def yield_playground():\n",
    "    try:\n",
    "        print('--- before yield ---')\n",
    "        yield 'foo'\n",
    "        print('--- after yield ---')\n",
    "        yield 'bar'\n",
    "    finally:\n",
    "        print('finally called')"
   ]
  },
  {
   "cell_type": "code",
   "execution_count": 12,
   "id": "3cefe166-f05e-48c7-a0eb-31a95f6f3902",
   "metadata": {},
   "outputs": [
    {
     "name": "stdout",
     "output_type": "stream",
     "text": [
      "finally called\n",
      "first next:\n",
      "--- before yield ---\n",
      "foo\n",
      "second next:\n",
      "--- after yield ---\n",
      "bar\n"
     ]
    }
   ],
   "source": [
    "gen = yield_playground()\n",
    "print('first next:')\n",
    "print(next(gen))\n",
    "print('second next:')\n",
    "print(next(gen))"
   ]
  }
 ],
 "metadata": {
  "kernelspec": {
   "display_name": "Python 3 (ipykernel)",
   "language": "python",
   "name": "python3"
  },
  "language_info": {
   "codemirror_mode": {
    "name": "ipython",
    "version": 3
   },
   "file_extension": ".py",
   "mimetype": "text/x-python",
   "name": "python",
   "nbconvert_exporter": "python",
   "pygments_lexer": "ipython3",
   "version": "3.10.5"
  }
 },
 "nbformat": 4,
 "nbformat_minor": 5
}
